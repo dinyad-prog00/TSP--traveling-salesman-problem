{
 "cells": [
  {
   "cell_type": "code",
   "execution_count": 1,
   "metadata": {},
   "outputs": [],
   "source": [
    "import pandas as pd\n",
    "\n",
    "# Charger le fichier CSV\n",
    "df = pd.read_csv('../execution_results2/execute_sw.csv')\n"
   ]
  },
  {
   "cell_type": "code",
   "execution_count": 2,
   "metadata": {},
   "outputs": [
    {
     "data": {
      "text/html": [
       "<div>\n",
       "<style scoped>\n",
       "    .dataframe tbody tr th:only-of-type {\n",
       "        vertical-align: middle;\n",
       "    }\n",
       "\n",
       "    .dataframe tbody tr th {\n",
       "        vertical-align: top;\n",
       "    }\n",
       "\n",
       "    .dataframe thead th {\n",
       "        text-align: right;\n",
       "    }\n",
       "</style>\n",
       "<table border=\"1\" class=\"dataframe\">\n",
       "  <thead>\n",
       "    <tr style=\"text-align: right;\">\n",
       "      <th></th>\n",
       "      <th>Instance</th>\n",
       "      <th>Algorithme</th>\n",
       "      <th>Seed</th>\n",
       "      <th>Score</th>\n",
       "      <th>Lambda</th>\n",
       "      <th>MaxEval</th>\n",
       "      <th>CPU-Used-Time (ms)</th>\n",
       "    </tr>\n",
       "  </thead>\n",
       "  <tbody>\n",
       "    <tr>\n",
       "      <th>0</th>\n",
       "      <td>instances/atsp_rand_50_75.txt</td>\n",
       "      <td>sampled_walk_swap</td>\n",
       "      <td>50</td>\n",
       "      <td>1738</td>\n",
       "      <td>5</td>\n",
       "      <td>1000000</td>\n",
       "      <td>1973.446</td>\n",
       "    </tr>\n",
       "    <tr>\n",
       "      <th>1</th>\n",
       "      <td>instances/atsp_rand_50_75.txt</td>\n",
       "      <td>sampled_walk_swap</td>\n",
       "      <td>50</td>\n",
       "      <td>1719</td>\n",
       "      <td>9</td>\n",
       "      <td>1000000</td>\n",
       "      <td>1160.193</td>\n",
       "    </tr>\n",
       "    <tr>\n",
       "      <th>2</th>\n",
       "      <td>instances/atsp_rand_50_75.txt</td>\n",
       "      <td>sampled_walk_swap</td>\n",
       "      <td>51</td>\n",
       "      <td>1706</td>\n",
       "      <td>5</td>\n",
       "      <td>1000000</td>\n",
       "      <td>1971.424</td>\n",
       "    </tr>\n",
       "    <tr>\n",
       "      <th>3</th>\n",
       "      <td>instances/atsp_rand_50_75.txt</td>\n",
       "      <td>sampled_walk_swap</td>\n",
       "      <td>51</td>\n",
       "      <td>1717</td>\n",
       "      <td>9</td>\n",
       "      <td>1000000</td>\n",
       "      <td>1160.676</td>\n",
       "    </tr>\n",
       "    <tr>\n",
       "      <th>4</th>\n",
       "      <td>instances/atsp_rand_50_75.txt</td>\n",
       "      <td>sampled_walk_swap</td>\n",
       "      <td>52</td>\n",
       "      <td>1751</td>\n",
       "      <td>5</td>\n",
       "      <td>1000000</td>\n",
       "      <td>2032.618</td>\n",
       "    </tr>\n",
       "  </tbody>\n",
       "</table>\n",
       "</div>"
      ],
      "text/plain": [
       "                        Instance         Algorithme  Seed  Score  Lambda  \\\n",
       "0  instances/atsp_rand_50_75.txt  sampled_walk_swap    50   1738       5   \n",
       "1  instances/atsp_rand_50_75.txt  sampled_walk_swap    50   1719       9   \n",
       "2  instances/atsp_rand_50_75.txt  sampled_walk_swap    51   1706       5   \n",
       "3  instances/atsp_rand_50_75.txt  sampled_walk_swap    51   1717       9   \n",
       "4  instances/atsp_rand_50_75.txt  sampled_walk_swap    52   1751       5   \n",
       "\n",
       "   MaxEval  CPU-Used-Time (ms)  \n",
       "0  1000000            1973.446  \n",
       "1  1000000            1160.193  \n",
       "2  1000000            1971.424  \n",
       "3  1000000            1160.676  \n",
       "4  1000000            2032.618  "
      ]
     },
     "execution_count": 2,
     "metadata": {},
     "output_type": "execute_result"
    }
   ],
   "source": [
    "df.head()"
   ]
  },
  {
   "cell_type": "code",
   "execution_count": 3,
   "metadata": {},
   "outputs": [],
   "source": [
    "neighbor_relations = [\"swap\",\"2opt\"]\n",
    "versus = ('swap', '2opt')\n",
    "instances = df['Instance'].unique()\n",
    "lambdas = df[\"Lambda\"].unique()\n"
   ]
  },
  {
   "cell_type": "code",
   "execution_count": 4,
   "metadata": {},
   "outputs": [],
   "source": [
    "def get_score(instance,neighbor_relation,seed,ld):\n",
    "    filtre = (\n",
    "    (df['Instance'] == instance) &\n",
    "    (df['Algorithme'] == f\"sampled_walk_{neighbor_relation}\") &\n",
    "    (df['Seed'] == seed) & \n",
    "    (df[\"Lambda\"] == ld)\n",
    "    )\n",
    "    r=df[filtre]\n",
    "    if r.size != 0:\n",
    "        return r.iloc[0][3]\n",
    "    else:\n",
    "        print(instance,neighbor_relation,seed)\n",
    "    "
   ]
  },
  {
   "cell_type": "code",
   "execution_count": 5,
   "metadata": {},
   "outputs": [],
   "source": [
    "def gagne(instance,seed, vs,ld):\n",
    "    #print(\"vs:\",vs)\n",
    "    s1 = get_score(instance,vs[0],seed,ld)\n",
    "    s2 = get_score(instance,vs[1],seed,ld)\n",
    "    return s1 < s2"
   ]
  },
  {
   "cell_type": "code",
   "execution_count": 15,
   "metadata": {},
   "outputs": [
    {
     "data": {
      "text/plain": [
       "1719"
      ]
     },
     "execution_count": 15,
     "metadata": {},
     "output_type": "execute_result"
    }
   ],
   "source": [
    "get_score(\"instances/atsp_rand_50_75.txt\",\"swap\",50,9)"
   ]
  },
  {
   "cell_type": "code",
   "execution_count": 13,
   "metadata": {},
   "outputs": [
    {
     "data": {
      "text/plain": [
       "2034"
      ]
     },
     "execution_count": 13,
     "metadata": {},
     "output_type": "execute_result"
    }
   ],
   "source": [
    "get_score(\"instances/atsp_rand_50_75.txt\",\"2opt\",50,9)"
   ]
  },
  {
   "cell_type": "code",
   "execution_count": 8,
   "metadata": {},
   "outputs": [
    {
     "data": {
      "text/plain": [
       "True"
      ]
     },
     "execution_count": 8,
     "metadata": {},
     "output_type": "execute_result"
    }
   ],
   "source": [
    "gagne(\"instances/atsp_rand_50_75.txt\",50, (\"swap\",\"2opt\"),9)"
   ]
  },
  {
   "cell_type": "code",
   "execution_count": 9,
   "metadata": {},
   "outputs": [
    {
     "data": {
      "text/html": [
       "<div>\n",
       "<style scoped>\n",
       "    .dataframe tbody tr th:only-of-type {\n",
       "        vertical-align: middle;\n",
       "    }\n",
       "\n",
       "    .dataframe tbody tr th {\n",
       "        vertical-align: top;\n",
       "    }\n",
       "\n",
       "    .dataframe thead th {\n",
       "        text-align: right;\n",
       "    }\n",
       "</style>\n",
       "<table border=\"1\" class=\"dataframe\">\n",
       "  <thead>\n",
       "    <tr style=\"text-align: right;\">\n",
       "      <th></th>\n",
       "      <th>instances</th>\n",
       "      <th>swap_vs_2opt</th>\n",
       "    </tr>\n",
       "  </thead>\n",
       "  <tbody>\n",
       "    <tr>\n",
       "      <th>0</th>\n",
       "      <td>instances/atsp_rand_50_75.txt</td>\n",
       "      <td>(20, 0)</td>\n",
       "    </tr>\n",
       "    <tr>\n",
       "      <th>1</th>\n",
       "      <td>instances/atsp_rand_50_100.txt</td>\n",
       "      <td>(20, 0)</td>\n",
       "    </tr>\n",
       "    <tr>\n",
       "      <th>2</th>\n",
       "      <td>instances/atsp_rand_60_50.txt</td>\n",
       "      <td>(20, 0)</td>\n",
       "    </tr>\n",
       "    <tr>\n",
       "      <th>3</th>\n",
       "      <td>instances/atsp_rand_60_100.txt</td>\n",
       "      <td>(20, 0)</td>\n",
       "    </tr>\n",
       "    <tr>\n",
       "      <th>4</th>\n",
       "      <td>instances/atsp_rand_70_55.txt</td>\n",
       "      <td>(20, 0)</td>\n",
       "    </tr>\n",
       "    <tr>\n",
       "      <th>5</th>\n",
       "      <td>instances/atsp_rand_70_100.txt</td>\n",
       "      <td>(20, 0)</td>\n",
       "    </tr>\n",
       "    <tr>\n",
       "      <th>6</th>\n",
       "      <td>instances/atsp_rand_80_70.txt</td>\n",
       "      <td>(20, 0)</td>\n",
       "    </tr>\n",
       "    <tr>\n",
       "      <th>7</th>\n",
       "      <td>instances/atsp_rand_80_100.txt</td>\n",
       "      <td>(20, 0)</td>\n",
       "    </tr>\n",
       "  </tbody>\n",
       "</table>\n",
       "</div>"
      ],
      "text/plain": [
       "                        instances swap_vs_2opt\n",
       "0   instances/atsp_rand_50_75.txt      (20, 0)\n",
       "1  instances/atsp_rand_50_100.txt      (20, 0)\n",
       "2   instances/atsp_rand_60_50.txt      (20, 0)\n",
       "3  instances/atsp_rand_60_100.txt      (20, 0)\n",
       "4   instances/atsp_rand_70_55.txt      (20, 0)\n",
       "5  instances/atsp_rand_70_100.txt      (20, 0)\n",
       "6   instances/atsp_rand_80_70.txt      (20, 0)\n",
       "7  instances/atsp_rand_80_100.txt      (20, 0)"
      ]
     },
     "execution_count": 9,
     "metadata": {},
     "output_type": "execute_result"
    }
   ],
   "source": [
    "result_tuple={\"instances\" : instances, \"swap_vs_2opt\" : []}\n",
    "for instance in instances:\n",
    "    \n",
    "    r=[0,0]\n",
    "    for ld in lambdas:\n",
    "        for seed in df[\"Seed\"].unique():\n",
    "            if gagne(instance,seed, versus,ld):\n",
    "                r[0]+=1\n",
    "            else:\n",
    "                r[1]+=1\n",
    "            \n",
    "    result_tuple[\"swap_vs_2opt\"].append((r[0],r[1]))\n",
    "            \n",
    "            #print(r)\n",
    "                \n",
    "result_tuple = pd.DataFrame(result_tuple)\n",
    "result_tuple"
   ]
  },
  {
   "cell_type": "code",
   "execution_count": 10,
   "metadata": {},
   "outputs": [
    {
     "data": {
      "text/html": [
       "<div>\n",
       "<style scoped>\n",
       "    .dataframe tbody tr th:only-of-type {\n",
       "        vertical-align: middle;\n",
       "    }\n",
       "\n",
       "    .dataframe tbody tr th {\n",
       "        vertical-align: top;\n",
       "    }\n",
       "\n",
       "    .dataframe thead th {\n",
       "        text-align: right;\n",
       "    }\n",
       "</style>\n",
       "<table border=\"1\" class=\"dataframe\">\n",
       "  <thead>\n",
       "    <tr style=\"text-align: right;\">\n",
       "      <th></th>\n",
       "      <th>Score</th>\n",
       "    </tr>\n",
       "    <tr>\n",
       "      <th>Algorithme</th>\n",
       "      <th></th>\n",
       "    </tr>\n",
       "  </thead>\n",
       "  <tbody>\n",
       "    <tr>\n",
       "      <th>sampled_walk_2opt</th>\n",
       "      <td>1818.96875</td>\n",
       "    </tr>\n",
       "    <tr>\n",
       "      <th>sampled_walk_swap</th>\n",
       "      <td>1209.74375</td>\n",
       "    </tr>\n",
       "  </tbody>\n",
       "</table>\n",
       "</div>"
      ],
      "text/plain": [
       "                        Score\n",
       "Algorithme                   \n",
       "sampled_walk_2opt  1818.96875\n",
       "sampled_walk_swap  1209.74375"
      ]
     },
     "execution_count": 10,
     "metadata": {},
     "output_type": "execute_result"
    }
   ],
   "source": [
    "df_group = df[[\"Algorithme\",\"Score\"]].groupby(\"Algorithme\")\n",
    "df_group.mean()"
   ]
  },
  {
   "cell_type": "code",
   "execution_count": 16,
   "metadata": {},
   "outputs": [
    {
     "data": {
      "text/html": [
       "<div>\n",
       "<style scoped>\n",
       "    .dataframe tbody tr th:only-of-type {\n",
       "        vertical-align: middle;\n",
       "    }\n",
       "\n",
       "    .dataframe tbody tr th {\n",
       "        vertical-align: top;\n",
       "    }\n",
       "\n",
       "    .dataframe thead th {\n",
       "        text-align: right;\n",
       "    }\n",
       "</style>\n",
       "<table border=\"1\" class=\"dataframe\">\n",
       "  <thead>\n",
       "    <tr style=\"text-align: right;\">\n",
       "      <th></th>\n",
       "      <th>CPU-Used-Time (ms)</th>\n",
       "    </tr>\n",
       "    <tr>\n",
       "      <th>Algorithme</th>\n",
       "      <th></th>\n",
       "    </tr>\n",
       "  </thead>\n",
       "  <tbody>\n",
       "    <tr>\n",
       "      <th>sampled_walk_2opt</th>\n",
       "      <td>2633.410887</td>\n",
       "    </tr>\n",
       "    <tr>\n",
       "      <th>sampled_walk_swap</th>\n",
       "      <td>2666.000194</td>\n",
       "    </tr>\n",
       "  </tbody>\n",
       "</table>\n",
       "</div>"
      ],
      "text/plain": [
       "                   CPU-Used-Time (ms)\n",
       "Algorithme                           \n",
       "sampled_walk_2opt         2633.410887\n",
       "sampled_walk_swap         2666.000194"
      ]
     },
     "execution_count": 16,
     "metadata": {},
     "output_type": "execute_result"
    }
   ],
   "source": [
    "df_group = df[[\"Algorithme\",\"CPU-Used-Time (ms)\"]].groupby(\"Algorithme\")\n",
    "df_group.mean()"
   ]
  }
 ],
 "metadata": {
  "kernelspec": {
   "display_name": "base",
   "language": "python",
   "name": "python3"
  },
  "language_info": {
   "codemirror_mode": {
    "name": "ipython",
    "version": 3
   },
   "file_extension": ".py",
   "mimetype": "text/x-python",
   "name": "python",
   "nbconvert_exporter": "python",
   "pygments_lexer": "ipython3",
   "version": "3.11.5"
  }
 },
 "nbformat": 4,
 "nbformat_minor": 2
}
