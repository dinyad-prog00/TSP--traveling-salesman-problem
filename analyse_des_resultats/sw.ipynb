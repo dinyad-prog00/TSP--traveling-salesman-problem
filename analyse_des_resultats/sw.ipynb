{
 "cells": [
  {
   "cell_type": "code",
   "execution_count": 94,
   "metadata": {},
   "outputs": [],
   "source": [
    "import pandas as pd\n",
    "\n",
    "# Charger le fichier CSV\n",
    "df = pd.read_csv('../execution_results2/execute_sw.csv')\n"
   ]
  },
  {
   "cell_type": "code",
   "execution_count": 95,
   "metadata": {},
   "outputs": [
    {
     "data": {
      "text/html": [
       "<div>\n",
       "<style scoped>\n",
       "    .dataframe tbody tr th:only-of-type {\n",
       "        vertical-align: middle;\n",
       "    }\n",
       "\n",
       "    .dataframe tbody tr th {\n",
       "        vertical-align: top;\n",
       "    }\n",
       "\n",
       "    .dataframe thead th {\n",
       "        text-align: right;\n",
       "    }\n",
       "</style>\n",
       "<table border=\"1\" class=\"dataframe\">\n",
       "  <thead>\n",
       "    <tr style=\"text-align: right;\">\n",
       "      <th></th>\n",
       "      <th>Instance</th>\n",
       "      <th>Algorithme</th>\n",
       "      <th>Seed</th>\n",
       "      <th>Score</th>\n",
       "      <th>Lambda</th>\n",
       "      <th>MaxEval</th>\n",
       "      <th>CPU-Used-Time (ms)</th>\n",
       "    </tr>\n",
       "  </thead>\n",
       "  <tbody>\n",
       "    <tr>\n",
       "      <th>0</th>\n",
       "      <td>instances/atsp_rand_50_75.txt</td>\n",
       "      <td>sampled_walk_swap</td>\n",
       "      <td>50</td>\n",
       "      <td>2307</td>\n",
       "      <td>5</td>\n",
       "      <td>100000</td>\n",
       "      <td>199.093</td>\n",
       "    </tr>\n",
       "    <tr>\n",
       "      <th>1</th>\n",
       "      <td>instances/atsp_rand_50_75.txt</td>\n",
       "      <td>sampled_walk_swap</td>\n",
       "      <td>50</td>\n",
       "      <td>2426</td>\n",
       "      <td>9</td>\n",
       "      <td>100000</td>\n",
       "      <td>113.974</td>\n",
       "    </tr>\n",
       "    <tr>\n",
       "      <th>2</th>\n",
       "      <td>instances/atsp_rand_50_75.txt</td>\n",
       "      <td>sampled_walk_swap</td>\n",
       "      <td>51</td>\n",
       "      <td>2632</td>\n",
       "      <td>5</td>\n",
       "      <td>100000</td>\n",
       "      <td>194.674</td>\n",
       "    </tr>\n",
       "    <tr>\n",
       "      <th>3</th>\n",
       "      <td>instances/atsp_rand_50_75.txt</td>\n",
       "      <td>sampled_walk_swap</td>\n",
       "      <td>51</td>\n",
       "      <td>2525</td>\n",
       "      <td>9</td>\n",
       "      <td>100000</td>\n",
       "      <td>114.643</td>\n",
       "    </tr>\n",
       "    <tr>\n",
       "      <th>4</th>\n",
       "      <td>instances/atsp_rand_50_75.txt</td>\n",
       "      <td>sampled_walk_swap</td>\n",
       "      <td>52</td>\n",
       "      <td>2587</td>\n",
       "      <td>5</td>\n",
       "      <td>100000</td>\n",
       "      <td>193.871</td>\n",
       "    </tr>\n",
       "  </tbody>\n",
       "</table>\n",
       "</div>"
      ],
      "text/plain": [
       "                        Instance         Algorithme  Seed  Score  Lambda  \\\n",
       "0  instances/atsp_rand_50_75.txt  sampled_walk_swap    50   2307       5   \n",
       "1  instances/atsp_rand_50_75.txt  sampled_walk_swap    50   2426       9   \n",
       "2  instances/atsp_rand_50_75.txt  sampled_walk_swap    51   2632       5   \n",
       "3  instances/atsp_rand_50_75.txt  sampled_walk_swap    51   2525       9   \n",
       "4  instances/atsp_rand_50_75.txt  sampled_walk_swap    52   2587       5   \n",
       "\n",
       "   MaxEval  CPU-Used-Time (ms)  \n",
       "0   100000             199.093  \n",
       "1   100000             113.974  \n",
       "2   100000             194.674  \n",
       "3   100000             114.643  \n",
       "4   100000             193.871  "
      ]
     },
     "execution_count": 95,
     "metadata": {},
     "output_type": "execute_result"
    }
   ],
   "source": [
    "df.head()"
   ]
  },
  {
   "cell_type": "code",
   "execution_count": 96,
   "metadata": {},
   "outputs": [],
   "source": [
    "neighbor_relations = [\"swap\",\"2opt\"]\n",
    "versus = ('swap', '2opt')\n",
    "instances = df['Instance'].unique()\n",
    "lambdas = df[\"Lambda\"].unique()\n"
   ]
  },
  {
   "cell_type": "code",
   "execution_count": 97,
   "metadata": {},
   "outputs": [],
   "source": [
    "def get_score(instance,neighbor_relation,seed,ld):\n",
    "    filtre = (\n",
    "    (df['Instance'] == instance) &\n",
    "    (df['Algorithme'] == f\"sampled_walk_{neighbor_relation}\") &\n",
    "    (df['Seed'] == seed) & \n",
    "    (df[\"Lambda\"] == ld)\n",
    "    )\n",
    "    r=df[filtre]\n",
    "    if r.size != 0:\n",
    "        return r.iloc[0][3]\n",
    "    else:\n",
    "        print(instance,neighbor_relation,seed)\n",
    "    "
   ]
  },
  {
   "cell_type": "code",
   "execution_count": 98,
   "metadata": {},
   "outputs": [],
   "source": [
    "def gagne(instance,seed, vs,ld):\n",
    "    #print(\"vs:\",vs)\n",
    "    s1 = get_score(instance,vs[0],seed,ld)\n",
    "    s2 = get_score(instance,vs[1],seed,ld)\n",
    "    return s1 < s2"
   ]
  },
  {
   "cell_type": "code",
   "execution_count": 99,
   "metadata": {},
   "outputs": [
    {
     "data": {
      "text/plain": [
       "2426"
      ]
     },
     "execution_count": 99,
     "metadata": {},
     "output_type": "execute_result"
    }
   ],
   "source": [
    "get_score(\"instances/atsp_rand_50_75.txt\",\"swap\",50,9)"
   ]
  },
  {
   "cell_type": "code",
   "execution_count": 100,
   "metadata": {},
   "outputs": [
    {
     "data": {
      "text/plain": [
       "2369"
      ]
     },
     "execution_count": 100,
     "metadata": {},
     "output_type": "execute_result"
    }
   ],
   "source": [
    "get_score(\"instances/atsp_rand_50_75.txt\",\"2opt\",50,9)"
   ]
  },
  {
   "cell_type": "code",
   "execution_count": 101,
   "metadata": {},
   "outputs": [
    {
     "data": {
      "text/plain": [
       "False"
      ]
     },
     "execution_count": 101,
     "metadata": {},
     "output_type": "execute_result"
    }
   ],
   "source": [
    "gagne(\"instances/atsp_rand_50_75.txt\",50, (\"swap\",\"2opt\"),9)"
   ]
  },
  {
   "cell_type": "code",
   "execution_count": 102,
   "metadata": {},
   "outputs": [
    {
     "data": {
      "text/html": [
       "<div>\n",
       "<style scoped>\n",
       "    .dataframe tbody tr th:only-of-type {\n",
       "        vertical-align: middle;\n",
       "    }\n",
       "\n",
       "    .dataframe tbody tr th {\n",
       "        vertical-align: top;\n",
       "    }\n",
       "\n",
       "    .dataframe thead th {\n",
       "        text-align: right;\n",
       "    }\n",
       "</style>\n",
       "<table border=\"1\" class=\"dataframe\">\n",
       "  <thead>\n",
       "    <tr style=\"text-align: right;\">\n",
       "      <th></th>\n",
       "      <th>instances</th>\n",
       "      <th>swap_vs_2opt</th>\n",
       "    </tr>\n",
       "  </thead>\n",
       "  <tbody>\n",
       "    <tr>\n",
       "      <th>0</th>\n",
       "      <td>instances/atsp_rand_50_75.txt</td>\n",
       "      <td>(8, 12)</td>\n",
       "    </tr>\n",
       "    <tr>\n",
       "      <th>1</th>\n",
       "      <td>instances/atsp_rand_50_100.txt</td>\n",
       "      <td>(11, 9)</td>\n",
       "    </tr>\n",
       "    <tr>\n",
       "      <th>2</th>\n",
       "      <td>instances/atsp_rand_60_50.txt</td>\n",
       "      <td>(9, 11)</td>\n",
       "    </tr>\n",
       "    <tr>\n",
       "      <th>3</th>\n",
       "      <td>instances/atsp_rand_60_100.txt</td>\n",
       "      <td>(7, 13)</td>\n",
       "    </tr>\n",
       "    <tr>\n",
       "      <th>4</th>\n",
       "      <td>instances/atsp_rand_70_55.txt</td>\n",
       "      <td>(7, 13)</td>\n",
       "    </tr>\n",
       "    <tr>\n",
       "      <th>5</th>\n",
       "      <td>instances/atsp_rand_70_100.txt</td>\n",
       "      <td>(9, 11)</td>\n",
       "    </tr>\n",
       "    <tr>\n",
       "      <th>6</th>\n",
       "      <td>instances/atsp_rand_80_70.txt</td>\n",
       "      <td>(11, 9)</td>\n",
       "    </tr>\n",
       "    <tr>\n",
       "      <th>7</th>\n",
       "      <td>instances/atsp_rand_80_100.txt</td>\n",
       "      <td>(8, 12)</td>\n",
       "    </tr>\n",
       "  </tbody>\n",
       "</table>\n",
       "</div>"
      ],
      "text/plain": [
       "                        instances swap_vs_2opt\n",
       "0   instances/atsp_rand_50_75.txt      (8, 12)\n",
       "1  instances/atsp_rand_50_100.txt      (11, 9)\n",
       "2   instances/atsp_rand_60_50.txt      (9, 11)\n",
       "3  instances/atsp_rand_60_100.txt      (7, 13)\n",
       "4   instances/atsp_rand_70_55.txt      (7, 13)\n",
       "5  instances/atsp_rand_70_100.txt      (9, 11)\n",
       "6   instances/atsp_rand_80_70.txt      (11, 9)\n",
       "7  instances/atsp_rand_80_100.txt      (8, 12)"
      ]
     },
     "execution_count": 102,
     "metadata": {},
     "output_type": "execute_result"
    }
   ],
   "source": [
    "result_tuple={\"instances\" : instances, \"swap_vs_2opt\" : []}\n",
    "for instance in instances:\n",
    "    \n",
    "    r=[0,0]\n",
    "    for ld in lambdas:\n",
    "        for seed in df[\"Seed\"].unique():\n",
    "            if gagne(instance,seed, versus,ld):\n",
    "                r[0]+=1\n",
    "            else:\n",
    "                r[1]+=1\n",
    "            \n",
    "    result_tuple[\"swap_vs_2opt\"].append((r[0],r[1]))\n",
    "            \n",
    "            #print(r)\n",
    "                \n",
    "result_tuple = pd.DataFrame(result_tuple)\n",
    "result_tuple"
   ]
  },
  {
   "cell_type": "code",
   "execution_count": 103,
   "metadata": {},
   "outputs": [
    {
     "data": {
      "text/html": [
       "<div>\n",
       "<style scoped>\n",
       "    .dataframe tbody tr th:only-of-type {\n",
       "        vertical-align: middle;\n",
       "    }\n",
       "\n",
       "    .dataframe tbody tr th {\n",
       "        vertical-align: top;\n",
       "    }\n",
       "\n",
       "    .dataframe thead th {\n",
       "        text-align: right;\n",
       "    }\n",
       "</style>\n",
       "<table border=\"1\" class=\"dataframe\">\n",
       "  <thead>\n",
       "    <tr style=\"text-align: right;\">\n",
       "      <th></th>\n",
       "      <th>Score</th>\n",
       "    </tr>\n",
       "    <tr>\n",
       "      <th>Algorithme</th>\n",
       "      <th></th>\n",
       "    </tr>\n",
       "  </thead>\n",
       "  <tbody>\n",
       "    <tr>\n",
       "      <th>sampled_walk_2opt</th>\n",
       "      <td>2833.88125</td>\n",
       "    </tr>\n",
       "    <tr>\n",
       "      <th>sampled_walk_swap</th>\n",
       "      <td>2864.96875</td>\n",
       "    </tr>\n",
       "  </tbody>\n",
       "</table>\n",
       "</div>"
      ],
      "text/plain": [
       "                        Score\n",
       "Algorithme                   \n",
       "sampled_walk_2opt  2833.88125\n",
       "sampled_walk_swap  2864.96875"
      ]
     },
     "execution_count": 103,
     "metadata": {},
     "output_type": "execute_result"
    }
   ],
   "source": [
    "df_group = df[[\"Algorithme\",\"Score\"]].groupby(\"Algorithme\")\n",
    "df_group.mean()"
   ]
  }
 ],
 "metadata": {
  "kernelspec": {
   "display_name": "base",
   "language": "python",
   "name": "python3"
  },
  "language_info": {
   "codemirror_mode": {
    "name": "ipython",
    "version": 3
   },
   "file_extension": ".py",
   "mimetype": "text/x-python",
   "name": "python",
   "nbconvert_exporter": "python",
   "pygments_lexer": "ipython3",
   "version": "3.9.7"
  }
 },
 "nbformat": 4,
 "nbformat_minor": 2
}
