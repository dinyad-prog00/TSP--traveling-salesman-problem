{
 "cells": [
  {
   "cell_type": "code",
   "execution_count": 3,
   "metadata": {},
   "outputs": [],
   "source": [
    "import pandas as pd\n",
    "\n",
    "# Charger le fichier CSV\n",
    "df = pd.read_csv('../execution_results/execute_descentes.csv')\n"
   ]
  },
  {
   "cell_type": "code",
   "execution_count": 4,
   "metadata": {},
   "outputs": [
    {
     "data": {
      "text/html": [
       "<div>\n",
       "<style scoped>\n",
       "    .dataframe tbody tr th:only-of-type {\n",
       "        vertical-align: middle;\n",
       "    }\n",
       "\n",
       "    .dataframe tbody tr th {\n",
       "        vertical-align: top;\n",
       "    }\n",
       "\n",
       "    .dataframe thead th {\n",
       "        text-align: right;\n",
       "    }\n",
       "</style>\n",
       "<table border=\"1\" class=\"dataframe\">\n",
       "  <thead>\n",
       "    <tr style=\"text-align: right;\">\n",
       "      <th></th>\n",
       "      <th>Instance</th>\n",
       "      <th>Algorithme</th>\n",
       "      <th>Seed</th>\n",
       "      <th>Score</th>\n",
       "      <th>CPU-Used-Time (ms)</th>\n",
       "    </tr>\n",
       "  </thead>\n",
       "  <tbody>\n",
       "    <tr>\n",
       "      <th>0</th>\n",
       "      <td>instances/atsp_rand_50_75.txt</td>\n",
       "      <td>best_improver_swap_descente</td>\n",
       "      <td>50</td>\n",
       "      <td>1723</td>\n",
       "      <td>4.420</td>\n",
       "    </tr>\n",
       "    <tr>\n",
       "      <th>1</th>\n",
       "      <td>instances/atsp_rand_50_75.txt</td>\n",
       "      <td>best_improver_swap_descente</td>\n",
       "      <td>51</td>\n",
       "      <td>1769</td>\n",
       "      <td>4.352</td>\n",
       "    </tr>\n",
       "    <tr>\n",
       "      <th>2</th>\n",
       "      <td>instances/atsp_rand_50_75.txt</td>\n",
       "      <td>best_improver_swap_descente</td>\n",
       "      <td>52</td>\n",
       "      <td>1768</td>\n",
       "      <td>4.562</td>\n",
       "    </tr>\n",
       "    <tr>\n",
       "      <th>3</th>\n",
       "      <td>instances/atsp_rand_50_75.txt</td>\n",
       "      <td>best_improver_swap_descente</td>\n",
       "      <td>53</td>\n",
       "      <td>1743</td>\n",
       "      <td>4.783</td>\n",
       "    </tr>\n",
       "    <tr>\n",
       "      <th>4</th>\n",
       "      <td>instances/atsp_rand_50_75.txt</td>\n",
       "      <td>best_improver_swap_descente</td>\n",
       "      <td>54</td>\n",
       "      <td>1744</td>\n",
       "      <td>4.816</td>\n",
       "    </tr>\n",
       "  </tbody>\n",
       "</table>\n",
       "</div>"
      ],
      "text/plain": [
       "                        Instance                   Algorithme  Seed  Score  \\\n",
       "0  instances/atsp_rand_50_75.txt  best_improver_swap_descente    50   1723   \n",
       "1  instances/atsp_rand_50_75.txt  best_improver_swap_descente    51   1769   \n",
       "2  instances/atsp_rand_50_75.txt  best_improver_swap_descente    52   1768   \n",
       "3  instances/atsp_rand_50_75.txt  best_improver_swap_descente    53   1743   \n",
       "4  instances/atsp_rand_50_75.txt  best_improver_swap_descente    54   1744   \n",
       "\n",
       "   CPU-Used-Time (ms)  \n",
       "0               4.420  \n",
       "1               4.352  \n",
       "2               4.562  \n",
       "3               4.783  \n",
       "4               4.816  "
      ]
     },
     "execution_count": 4,
     "metadata": {},
     "output_type": "execute_result"
    }
   ],
   "source": [
    "df.head()"
   ]
  },
  {
   "cell_type": "code",
   "execution_count": 5,
   "metadata": {},
   "outputs": [],
   "source": [
    "neighbor_relations = [\"swap\",\"2opt\"]\n",
    "choice_mehod = ['first', 'best', 'worst']\n",
    "versus = [('first', 'best'), ('first', 'worst'),('best', 'worst')]\n",
    "instances = df['Instance'].unique()"
   ]
  },
  {
   "cell_type": "code",
   "execution_count": 6,
   "metadata": {},
   "outputs": [],
   "source": [
    "def get_score(instance,neighbor_relation,choice_mehod,seed):\n",
    "    filtre = (\n",
    "    (df['Instance'] == instance) &\n",
    "    (df['Algorithme'] == f\"{choice_mehod}_improver_{neighbor_relation}_descente\") &\n",
    "    (df['Seed'] == seed)\n",
    "    )\n",
    "    r=df[filtre]\n",
    "    if r.size != 0:\n",
    "        return r.iloc[0][3]\n",
    "    else:\n",
    "        print(instance,neighbor_relation,choice_mehod,seed)\n",
    "    "
   ]
  },
  {
   "cell_type": "code",
   "execution_count": 7,
   "metadata": {},
   "outputs": [],
   "source": [
    "def gagne(instance,neighbor_relation,seed, vs):\n",
    "    #print(\"vs:\",vs)\n",
    "    s1 = get_score(instance,neighbor_relation,vs[0],seed)\n",
    "    s2 = get_score(instance,neighbor_relation,vs[1],seed)\n",
    "    return s1 < s2"
   ]
  },
  {
   "cell_type": "code",
   "execution_count": 8,
   "metadata": {},
   "outputs": [
    {
     "data": {
      "text/plain": [
       "1940"
      ]
     },
     "execution_count": 8,
     "metadata": {},
     "output_type": "execute_result"
    }
   ],
   "source": [
    "get_score(\"instances/atsp_rand_50_75.txt\",\"2opt\",\"first\",55)"
   ]
  },
  {
   "cell_type": "code",
   "execution_count": 9,
   "metadata": {},
   "outputs": [
    {
     "data": {
      "text/plain": [
       "True"
      ]
     },
     "execution_count": 9,
     "metadata": {},
     "output_type": "execute_result"
    }
   ],
   "source": [
    "gagne(\"instances/atsp_rand_50_75.txt\",\"2opt\",50, (\"best\",\"first\"))"
   ]
  },
  {
   "cell_type": "code",
   "execution_count": 10,
   "metadata": {},
   "outputs": [
    {
     "data": {
      "text/html": [
       "<div>\n",
       "<style scoped>\n",
       "    .dataframe tbody tr th:only-of-type {\n",
       "        vertical-align: middle;\n",
       "    }\n",
       "\n",
       "    .dataframe tbody tr th {\n",
       "        vertical-align: top;\n",
       "    }\n",
       "\n",
       "    .dataframe thead th {\n",
       "        text-align: right;\n",
       "    }\n",
       "</style>\n",
       "<table border=\"1\" class=\"dataframe\">\n",
       "  <thead>\n",
       "    <tr style=\"text-align: right;\">\n",
       "      <th></th>\n",
       "      <th>instances</th>\n",
       "      <th>swap_first_vs_best</th>\n",
       "      <th>swap_first_vs_worst</th>\n",
       "      <th>swap_best_vs_worst</th>\n",
       "      <th>2opt_first_vs_best</th>\n",
       "      <th>2opt_first_vs_worst</th>\n",
       "      <th>2opt_best_vs_worst</th>\n",
       "    </tr>\n",
       "  </thead>\n",
       "  <tbody>\n",
       "    <tr>\n",
       "      <th>0</th>\n",
       "      <td>instances/atsp_rand_50_75.txt</td>\n",
       "      <td>(6, 4)</td>\n",
       "      <td>(5, 5)</td>\n",
       "      <td>(4, 6)</td>\n",
       "      <td>(7, 3)</td>\n",
       "      <td>(8, 2)</td>\n",
       "      <td>(6, 4)</td>\n",
       "    </tr>\n",
       "    <tr>\n",
       "      <th>1</th>\n",
       "      <td>instances/atsp_rand_50_100.txt</td>\n",
       "      <td>(5, 5)</td>\n",
       "      <td>(6, 4)</td>\n",
       "      <td>(5, 5)</td>\n",
       "      <td>(9, 1)</td>\n",
       "      <td>(10, 0)</td>\n",
       "      <td>(7, 3)</td>\n",
       "    </tr>\n",
       "    <tr>\n",
       "      <th>2</th>\n",
       "      <td>instances/atsp_rand_60_50.txt</td>\n",
       "      <td>(4, 6)</td>\n",
       "      <td>(3, 7)</td>\n",
       "      <td>(5, 5)</td>\n",
       "      <td>(8, 2)</td>\n",
       "      <td>(10, 0)</td>\n",
       "      <td>(7, 3)</td>\n",
       "    </tr>\n",
       "    <tr>\n",
       "      <th>3</th>\n",
       "      <td>instances/atsp_rand_60_100.txt</td>\n",
       "      <td>(4, 6)</td>\n",
       "      <td>(5, 5)</td>\n",
       "      <td>(5, 5)</td>\n",
       "      <td>(9, 1)</td>\n",
       "      <td>(10, 0)</td>\n",
       "      <td>(7, 3)</td>\n",
       "    </tr>\n",
       "    <tr>\n",
       "      <th>4</th>\n",
       "      <td>instances/atsp_rand_70_55.txt</td>\n",
       "      <td>(7, 3)</td>\n",
       "      <td>(4, 6)</td>\n",
       "      <td>(5, 5)</td>\n",
       "      <td>(10, 0)</td>\n",
       "      <td>(8, 2)</td>\n",
       "      <td>(3, 7)</td>\n",
       "    </tr>\n",
       "    <tr>\n",
       "      <th>5</th>\n",
       "      <td>instances/atsp_rand_70_100.txt</td>\n",
       "      <td>(5, 5)</td>\n",
       "      <td>(6, 4)</td>\n",
       "      <td>(4, 6)</td>\n",
       "      <td>(9, 1)</td>\n",
       "      <td>(10, 0)</td>\n",
       "      <td>(5, 5)</td>\n",
       "    </tr>\n",
       "    <tr>\n",
       "      <th>6</th>\n",
       "      <td>instances/atsp_rand_80_70.txt</td>\n",
       "      <td>(3, 7)</td>\n",
       "      <td>(5, 5)</td>\n",
       "      <td>(3, 7)</td>\n",
       "      <td>(10, 0)</td>\n",
       "      <td>(10, 0)</td>\n",
       "      <td>(5, 5)</td>\n",
       "    </tr>\n",
       "    <tr>\n",
       "      <th>7</th>\n",
       "      <td>instances/atsp_rand_80_100.txt</td>\n",
       "      <td>(6, 4)</td>\n",
       "      <td>(5, 5)</td>\n",
       "      <td>(5, 5)</td>\n",
       "      <td>(9, 1)</td>\n",
       "      <td>(10, 0)</td>\n",
       "      <td>(4, 6)</td>\n",
       "    </tr>\n",
       "  </tbody>\n",
       "</table>\n",
       "</div>"
      ],
      "text/plain": [
       "                        instances swap_first_vs_best swap_first_vs_worst  \\\n",
       "0   instances/atsp_rand_50_75.txt             (6, 4)              (5, 5)   \n",
       "1  instances/atsp_rand_50_100.txt             (5, 5)              (6, 4)   \n",
       "2   instances/atsp_rand_60_50.txt             (4, 6)              (3, 7)   \n",
       "3  instances/atsp_rand_60_100.txt             (4, 6)              (5, 5)   \n",
       "4   instances/atsp_rand_70_55.txt             (7, 3)              (4, 6)   \n",
       "5  instances/atsp_rand_70_100.txt             (5, 5)              (6, 4)   \n",
       "6   instances/atsp_rand_80_70.txt             (3, 7)              (5, 5)   \n",
       "7  instances/atsp_rand_80_100.txt             (6, 4)              (5, 5)   \n",
       "\n",
       "  swap_best_vs_worst 2opt_first_vs_best 2opt_first_vs_worst 2opt_best_vs_worst  \n",
       "0             (4, 6)             (7, 3)              (8, 2)             (6, 4)  \n",
       "1             (5, 5)             (9, 1)             (10, 0)             (7, 3)  \n",
       "2             (5, 5)             (8, 2)             (10, 0)             (7, 3)  \n",
       "3             (5, 5)             (9, 1)             (10, 0)             (7, 3)  \n",
       "4             (5, 5)            (10, 0)              (8, 2)             (3, 7)  \n",
       "5             (4, 6)             (9, 1)             (10, 0)             (5, 5)  \n",
       "6             (3, 7)            (10, 0)             (10, 0)             (5, 5)  \n",
       "7             (5, 5)             (9, 1)             (10, 0)             (4, 6)  "
      ]
     },
     "execution_count": 10,
     "metadata": {},
     "output_type": "execute_result"
    }
   ],
   "source": [
    "result_tuple={\"instances\" : instances}\n",
    "for instance in instances:\n",
    "    #print(instance)\n",
    "    for nr in neighbor_relations:\n",
    "        #print(nr)\n",
    "        for vs in versus:\n",
    "            #print(vs,\" : \",end=\"\")\n",
    "            r=[0,0]\n",
    "            for seed in df[\"Seed\"].unique():\n",
    "                if gagne(instance,nr,seed, vs):\n",
    "                    r[0]+=1\n",
    "                else:\n",
    "                    r[1]+=1\n",
    "            try:\n",
    "                result_tuple[f\"{nr}_{vs[0]}_vs_{vs[1]}\"].append((r[0],r[1]))\n",
    "            except:\n",
    "                result_tuple[f\"{nr}_{vs[0]}_vs_{vs[1]}\"] = [(r[0],r[1])]\n",
    "            #print(r)\n",
    "\n",
    "\n",
    "result_tuple = pd.DataFrame(result_tuple)\n",
    "result_tuple"
   ]
  },
  {
   "cell_type": "markdown",
   "metadata": {},
   "source": [
    "Moyenne"
   ]
  },
  {
   "cell_type": "code",
   "execution_count": 11,
   "metadata": {},
   "outputs": [
    {
     "data": {
      "text/html": [
       "<div>\n",
       "<style scoped>\n",
       "    .dataframe tbody tr th:only-of-type {\n",
       "        vertical-align: middle;\n",
       "    }\n",
       "\n",
       "    .dataframe tbody tr th {\n",
       "        vertical-align: top;\n",
       "    }\n",
       "\n",
       "    .dataframe thead th {\n",
       "        text-align: right;\n",
       "    }\n",
       "</style>\n",
       "<table border=\"1\" class=\"dataframe\">\n",
       "  <thead>\n",
       "    <tr style=\"text-align: right;\">\n",
       "      <th></th>\n",
       "      <th>Score</th>\n",
       "    </tr>\n",
       "    <tr>\n",
       "      <th>Algorithme</th>\n",
       "      <th></th>\n",
       "    </tr>\n",
       "  </thead>\n",
       "  <tbody>\n",
       "    <tr>\n",
       "      <th>best_improver_2opt_descente</th>\n",
       "      <td>1801.5000</td>\n",
       "    </tr>\n",
       "    <tr>\n",
       "      <th>best_improver_swap_descente</th>\n",
       "      <td>1206.7625</td>\n",
       "    </tr>\n",
       "    <tr>\n",
       "      <th>first_improver_2opt_descente</th>\n",
       "      <td>1596.2125</td>\n",
       "    </tr>\n",
       "    <tr>\n",
       "      <th>first_improver_swap_descente</th>\n",
       "      <td>1205.8250</td>\n",
       "    </tr>\n",
       "    <tr>\n",
       "      <th>worst_improver_2opt_descente</th>\n",
       "      <td>1809.1750</td>\n",
       "    </tr>\n",
       "    <tr>\n",
       "      <th>worst_improver_swap_descente</th>\n",
       "      <td>1207.7250</td>\n",
       "    </tr>\n",
       "  </tbody>\n",
       "</table>\n",
       "</div>"
      ],
      "text/plain": [
       "                                  Score\n",
       "Algorithme                             \n",
       "best_improver_2opt_descente   1801.5000\n",
       "best_improver_swap_descente   1206.7625\n",
       "first_improver_2opt_descente  1596.2125\n",
       "first_improver_swap_descente  1205.8250\n",
       "worst_improver_2opt_descente  1809.1750\n",
       "worst_improver_swap_descente  1207.7250"
      ]
     },
     "execution_count": 11,
     "metadata": {},
     "output_type": "execute_result"
    }
   ],
   "source": [
    "df_group = df[[\"Algorithme\",\"Score\"]].groupby(\"Algorithme\")\n",
    "df_group.mean()"
   ]
  },
  {
   "cell_type": "markdown",
   "metadata": {},
   "source": [
    "Pour swap gagnant: first\n",
    "\n",
    "Pourt 2opt gagnant: first\n"
   ]
  },
  {
   "cell_type": "markdown",
   "metadata": {},
   "source": [
    "### Durée swap normale"
   ]
  },
  {
   "cell_type": "code",
   "execution_count": 16,
   "metadata": {},
   "outputs": [
    {
     "data": {
      "text/html": [
       "<div>\n",
       "<style scoped>\n",
       "    .dataframe tbody tr th:only-of-type {\n",
       "        vertical-align: middle;\n",
       "    }\n",
       "\n",
       "    .dataframe tbody tr th {\n",
       "        vertical-align: top;\n",
       "    }\n",
       "\n",
       "    .dataframe thead th {\n",
       "        text-align: right;\n",
       "    }\n",
       "</style>\n",
       "<table border=\"1\" class=\"dataframe\">\n",
       "  <thead>\n",
       "    <tr style=\"text-align: right;\">\n",
       "      <th></th>\n",
       "      <th>CPU-Used-Time (ms)</th>\n",
       "    </tr>\n",
       "    <tr>\n",
       "      <th>Algorithme</th>\n",
       "      <th></th>\n",
       "    </tr>\n",
       "  </thead>\n",
       "  <tbody>\n",
       "    <tr>\n",
       "      <th>best_improver_swap_descente</th>\n",
       "      <td>23.713987</td>\n",
       "    </tr>\n",
       "    <tr>\n",
       "      <th>first_improver_swap_descente</th>\n",
       "      <td>7.646788</td>\n",
       "    </tr>\n",
       "    <tr>\n",
       "      <th>worst_improver_swap_descente</th>\n",
       "      <td>885.963613</td>\n",
       "    </tr>\n",
       "  </tbody>\n",
       "</table>\n",
       "</div>"
      ],
      "text/plain": [
       "                              CPU-Used-Time (ms)\n",
       "Algorithme                                      \n",
       "best_improver_swap_descente            23.713987\n",
       "first_improver_swap_descente            7.646788\n",
       "worst_improver_swap_descente          885.963613"
      ]
     },
     "execution_count": 16,
     "metadata": {},
     "output_type": "execute_result"
    }
   ],
   "source": [
    "df_group = df[[\"Algorithme\",\"CPU-Used-Time (ms)\"]][(df[\"Algorithme\"].str.contains(\"swap\"))].groupby(\"Algorithme\")\n",
    "df_group.mean()"
   ]
  },
  {
   "cell_type": "markdown",
   "metadata": {},
   "source": [
    "### Durée swap avec évaluation incrémentale"
   ]
  },
  {
   "cell_type": "code",
   "execution_count": 18,
   "metadata": {},
   "outputs": [
    {
     "data": {
      "text/html": [
       "<div>\n",
       "<style scoped>\n",
       "    .dataframe tbody tr th:only-of-type {\n",
       "        vertical-align: middle;\n",
       "    }\n",
       "\n",
       "    .dataframe tbody tr th {\n",
       "        vertical-align: top;\n",
       "    }\n",
       "\n",
       "    .dataframe thead th {\n",
       "        text-align: right;\n",
       "    }\n",
       "</style>\n",
       "<table border=\"1\" class=\"dataframe\">\n",
       "  <thead>\n",
       "    <tr style=\"text-align: right;\">\n",
       "      <th></th>\n",
       "      <th>CPU-Used-Time (ms)</th>\n",
       "    </tr>\n",
       "    <tr>\n",
       "      <th>Algorithme</th>\n",
       "      <th></th>\n",
       "    </tr>\n",
       "  </thead>\n",
       "  <tbody>\n",
       "    <tr>\n",
       "      <th>best_improver_swap_descente</th>\n",
       "      <td>4.497738</td>\n",
       "    </tr>\n",
       "    <tr>\n",
       "      <th>first_improver_swap_descente</th>\n",
       "      <td>0.354200</td>\n",
       "    </tr>\n",
       "    <tr>\n",
       "      <th>worst_improver_swap_descente</th>\n",
       "      <td>50.475100</td>\n",
       "    </tr>\n",
       "  </tbody>\n",
       "</table>\n",
       "</div>"
      ],
      "text/plain": [
       "                              CPU-Used-Time (ms)\n",
       "Algorithme                                      \n",
       "best_improver_swap_descente             4.497738\n",
       "first_improver_swap_descente            0.354200\n",
       "worst_improver_swap_descente           50.475100"
      ]
     },
     "execution_count": 18,
     "metadata": {},
     "output_type": "execute_result"
    }
   ],
   "source": [
    "df2 = pd.read_csv('../execution_results2/execute_descentes_incremental.csv')\n",
    "df2_group = df2[[\"Algorithme\",\"CPU-Used-Time (ms)\"]][(df[\"Algorithme\"].str.contains(\"swap\"))].groupby(\"Algorithme\")\n",
    "df2_group.mean()"
   ]
  },
  {
   "cell_type": "markdown",
   "metadata": {},
   "source": [
    "Scores pratiquement inchangés"
   ]
  },
  {
   "cell_type": "code",
   "execution_count": 15,
   "metadata": {},
   "outputs": [
    {
     "data": {
      "text/html": [
       "<div>\n",
       "<style scoped>\n",
       "    .dataframe tbody tr th:only-of-type {\n",
       "        vertical-align: middle;\n",
       "    }\n",
       "\n",
       "    .dataframe tbody tr th {\n",
       "        vertical-align: top;\n",
       "    }\n",
       "\n",
       "    .dataframe thead th {\n",
       "        text-align: right;\n",
       "    }\n",
       "</style>\n",
       "<table border=\"1\" class=\"dataframe\">\n",
       "  <thead>\n",
       "    <tr style=\"text-align: right;\">\n",
       "      <th></th>\n",
       "      <th>Score</th>\n",
       "    </tr>\n",
       "    <tr>\n",
       "      <th>Algorithme</th>\n",
       "      <th></th>\n",
       "    </tr>\n",
       "  </thead>\n",
       "  <tbody>\n",
       "    <tr>\n",
       "      <th>best_improver_2opt_descente</th>\n",
       "      <td>1801.5000</td>\n",
       "    </tr>\n",
       "    <tr>\n",
       "      <th>best_improver_swap_descente</th>\n",
       "      <td>1162.6250</td>\n",
       "    </tr>\n",
       "    <tr>\n",
       "      <th>first_improver_2opt_descente</th>\n",
       "      <td>1596.2125</td>\n",
       "    </tr>\n",
       "    <tr>\n",
       "      <th>first_improver_swap_descente</th>\n",
       "      <td>1205.8250</td>\n",
       "    </tr>\n",
       "    <tr>\n",
       "      <th>worst_improver_2opt_descente</th>\n",
       "      <td>1809.1750</td>\n",
       "    </tr>\n",
       "    <tr>\n",
       "      <th>worst_improver_swap_descente</th>\n",
       "      <td>1207.7250</td>\n",
       "    </tr>\n",
       "  </tbody>\n",
       "</table>\n",
       "</div>"
      ],
      "text/plain": [
       "                                  Score\n",
       "Algorithme                             \n",
       "best_improver_2opt_descente   1801.5000\n",
       "best_improver_swap_descente   1162.6250\n",
       "first_improver_2opt_descente  1596.2125\n",
       "first_improver_swap_descente  1205.8250\n",
       "worst_improver_2opt_descente  1809.1750\n",
       "worst_improver_swap_descente  1207.7250"
      ]
     },
     "execution_count": 15,
     "metadata": {},
     "output_type": "execute_result"
    }
   ],
   "source": [
    "df2_group = df2[[\"Algorithme\",\"Score\"]].groupby(\"Algorithme\")\n",
    "df2_group.mean()"
   ]
  }
 ],
 "metadata": {
  "kernelspec": {
   "display_name": "base",
   "language": "python",
   "name": "python3"
  },
  "language_info": {
   "codemirror_mode": {
    "name": "ipython",
    "version": 3
   },
   "file_extension": ".py",
   "mimetype": "text/x-python",
   "name": "python",
   "nbconvert_exporter": "python",
   "pygments_lexer": "ipython3",
   "version": "3.11.5"
  }
 },
 "nbformat": 4,
 "nbformat_minor": 2
}
