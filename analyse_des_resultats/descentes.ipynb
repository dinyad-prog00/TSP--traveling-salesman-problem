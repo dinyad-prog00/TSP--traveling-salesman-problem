{
 "cells": [
  {
   "cell_type": "code",
   "execution_count": 2,
   "metadata": {},
   "outputs": [],
   "source": [
    "import pandas as pd\n",
    "\n",
    "# Charger le fichier CSV\n",
    "df = pd.read_csv('../execution_results/execute_descentes.csv')\n"
   ]
  },
  {
   "cell_type": "code",
   "execution_count": 158,
   "metadata": {},
   "outputs": [
    {
     "data": {
      "text/html": [
       "<div>\n",
       "<style scoped>\n",
       "    .dataframe tbody tr th:only-of-type {\n",
       "        vertical-align: middle;\n",
       "    }\n",
       "\n",
       "    .dataframe tbody tr th {\n",
       "        vertical-align: top;\n",
       "    }\n",
       "\n",
       "    .dataframe thead th {\n",
       "        text-align: right;\n",
       "    }\n",
       "</style>\n",
       "<table border=\"1\" class=\"dataframe\">\n",
       "  <thead>\n",
       "    <tr style=\"text-align: right;\">\n",
       "      <th></th>\n",
       "      <th>Instance</th>\n",
       "      <th>Algorithme</th>\n",
       "      <th>Seed</th>\n",
       "      <th>Score</th>\n",
       "      <th>CPU-Used-Time (ms)</th>\n",
       "    </tr>\n",
       "  </thead>\n",
       "  <tbody>\n",
       "    <tr>\n",
       "      <th>0</th>\n",
       "      <td>instances/atsp_rand_50_75.txt</td>\n",
       "      <td>best_improver_swap_descente</td>\n",
       "      <td>50</td>\n",
       "      <td>1723</td>\n",
       "      <td>4.420</td>\n",
       "    </tr>\n",
       "    <tr>\n",
       "      <th>1</th>\n",
       "      <td>instances/atsp_rand_50_75.txt</td>\n",
       "      <td>best_improver_swap_descente</td>\n",
       "      <td>51</td>\n",
       "      <td>1769</td>\n",
       "      <td>4.352</td>\n",
       "    </tr>\n",
       "    <tr>\n",
       "      <th>2</th>\n",
       "      <td>instances/atsp_rand_50_75.txt</td>\n",
       "      <td>best_improver_swap_descente</td>\n",
       "      <td>52</td>\n",
       "      <td>1768</td>\n",
       "      <td>4.562</td>\n",
       "    </tr>\n",
       "    <tr>\n",
       "      <th>3</th>\n",
       "      <td>instances/atsp_rand_50_75.txt</td>\n",
       "      <td>best_improver_swap_descente</td>\n",
       "      <td>53</td>\n",
       "      <td>1743</td>\n",
       "      <td>4.783</td>\n",
       "    </tr>\n",
       "    <tr>\n",
       "      <th>4</th>\n",
       "      <td>instances/atsp_rand_50_75.txt</td>\n",
       "      <td>best_improver_swap_descente</td>\n",
       "      <td>54</td>\n",
       "      <td>1744</td>\n",
       "      <td>4.816</td>\n",
       "    </tr>\n",
       "  </tbody>\n",
       "</table>\n",
       "</div>"
      ],
      "text/plain": [
       "                        Instance                   Algorithme  Seed  Score  \\\n",
       "0  instances/atsp_rand_50_75.txt  best_improver_swap_descente    50   1723   \n",
       "1  instances/atsp_rand_50_75.txt  best_improver_swap_descente    51   1769   \n",
       "2  instances/atsp_rand_50_75.txt  best_improver_swap_descente    52   1768   \n",
       "3  instances/atsp_rand_50_75.txt  best_improver_swap_descente    53   1743   \n",
       "4  instances/atsp_rand_50_75.txt  best_improver_swap_descente    54   1744   \n",
       "\n",
       "   CPU-Used-Time (ms)  \n",
       "0               4.420  \n",
       "1               4.352  \n",
       "2               4.562  \n",
       "3               4.783  \n",
       "4               4.816  "
      ]
     },
     "execution_count": 158,
     "metadata": {},
     "output_type": "execute_result"
    }
   ],
   "source": [
    "df.head()"
   ]
  },
  {
   "cell_type": "code",
   "execution_count": 108,
   "metadata": {},
   "outputs": [],
   "source": [
    "neighbor_relations = [\"swap\",\"2opt\"]\n",
    "choice_mehod = ['first', 'best', 'worst']\n",
    "versus = [('first', 'best'), ('first', 'worst'),('best', 'worst')]\n",
    "instances = df['Instance'].unique()"
   ]
  },
  {
   "cell_type": "code",
   "execution_count": 94,
   "metadata": {},
   "outputs": [],
   "source": [
    "def get_score(instance,neighbor_relation,choice_mehod,seed):\n",
    "    filtre = (\n",
    "    (df['Instance'] == instance) &\n",
    "    (df['Algorithme'] == f\"{choice_mehod}_improver_{neighbor_relation}_descente\") &\n",
    "    (df['Seed'] == seed)\n",
    "    )\n",
    "    r=df[filtre]\n",
    "    if r.size != 0:\n",
    "        return r.iloc[0][3]\n",
    "    else:\n",
    "        print(instance,neighbor_relation,choice_mehod,seed)\n",
    "    "
   ]
  },
  {
   "cell_type": "code",
   "execution_count": 104,
   "metadata": {},
   "outputs": [],
   "source": [
    "def gagne(instance,neighbor_relation,seed, vs):\n",
    "    #print(\"vs:\",vs)\n",
    "    s1 = get_score(instance,neighbor_relation,vs[0],seed)\n",
    "    s2 = get_score(instance,neighbor_relation,vs[1],seed)\n",
    "    return s1 < s2"
   ]
  },
  {
   "cell_type": "code",
   "execution_count": 76,
   "metadata": {},
   "outputs": [
    {
     "data": {
      "text/plain": [
       "1940"
      ]
     },
     "execution_count": 76,
     "metadata": {},
     "output_type": "execute_result"
    }
   ],
   "source": [
    "get_score(\"instances/atsp_rand_50_75.txt\",\"2opt\",\"first\",55)"
   ]
  },
  {
   "cell_type": "code",
   "execution_count": 80,
   "metadata": {},
   "outputs": [
    {
     "data": {
      "text/plain": [
       "True"
      ]
     },
     "execution_count": 80,
     "metadata": {},
     "output_type": "execute_result"
    }
   ],
   "source": [
    "gagne(\"instances/atsp_rand_50_75.txt\",\"2opt\",50, (\"best\",\"first\"))"
   ]
  },
  {
   "cell_type": "code",
   "execution_count": 155,
   "metadata": {},
   "outputs": [
    {
     "data": {
      "text/html": [
       "<div>\n",
       "<style scoped>\n",
       "    .dataframe tbody tr th:only-of-type {\n",
       "        vertical-align: middle;\n",
       "    }\n",
       "\n",
       "    .dataframe tbody tr th {\n",
       "        vertical-align: top;\n",
       "    }\n",
       "\n",
       "    .dataframe thead th {\n",
       "        text-align: right;\n",
       "    }\n",
       "</style>\n",
       "<table border=\"1\" class=\"dataframe\">\n",
       "  <thead>\n",
       "    <tr style=\"text-align: right;\">\n",
       "      <th></th>\n",
       "      <th>instances</th>\n",
       "      <th>swap_first_vs_best</th>\n",
       "      <th>swap_first_vs_worst</th>\n",
       "      <th>swap_best_vs_worst</th>\n",
       "      <th>2opt_first_vs_best</th>\n",
       "      <th>2opt_first_vs_worst</th>\n",
       "      <th>2opt_best_vs_worst</th>\n",
       "    </tr>\n",
       "  </thead>\n",
       "  <tbody>\n",
       "    <tr>\n",
       "      <th>0</th>\n",
       "      <td>instances/atsp_rand_50_75.txt</td>\n",
       "      <td>(6, 4)</td>\n",
       "      <td>(5, 5)</td>\n",
       "      <td>(4, 6)</td>\n",
       "      <td>(7, 3)</td>\n",
       "      <td>(8, 2)</td>\n",
       "      <td>(6, 4)</td>\n",
       "    </tr>\n",
       "    <tr>\n",
       "      <th>1</th>\n",
       "      <td>instances/atsp_rand_50_100.txt</td>\n",
       "      <td>(5, 5)</td>\n",
       "      <td>(6, 4)</td>\n",
       "      <td>(5, 5)</td>\n",
       "      <td>(9, 1)</td>\n",
       "      <td>(10, 0)</td>\n",
       "      <td>(7, 3)</td>\n",
       "    </tr>\n",
       "    <tr>\n",
       "      <th>2</th>\n",
       "      <td>instances/atsp_rand_60_50.txt</td>\n",
       "      <td>(4, 6)</td>\n",
       "      <td>(3, 7)</td>\n",
       "      <td>(5, 5)</td>\n",
       "      <td>(8, 2)</td>\n",
       "      <td>(10, 0)</td>\n",
       "      <td>(7, 3)</td>\n",
       "    </tr>\n",
       "    <tr>\n",
       "      <th>3</th>\n",
       "      <td>instances/atsp_rand_60_100.txt</td>\n",
       "      <td>(4, 6)</td>\n",
       "      <td>(5, 5)</td>\n",
       "      <td>(5, 5)</td>\n",
       "      <td>(9, 1)</td>\n",
       "      <td>(10, 0)</td>\n",
       "      <td>(7, 3)</td>\n",
       "    </tr>\n",
       "    <tr>\n",
       "      <th>4</th>\n",
       "      <td>instances/atsp_rand_70_55.txt</td>\n",
       "      <td>(7, 3)</td>\n",
       "      <td>(4, 6)</td>\n",
       "      <td>(5, 5)</td>\n",
       "      <td>(10, 0)</td>\n",
       "      <td>(8, 2)</td>\n",
       "      <td>(3, 7)</td>\n",
       "    </tr>\n",
       "    <tr>\n",
       "      <th>5</th>\n",
       "      <td>instances/atsp_rand_70_100.txt</td>\n",
       "      <td>(5, 5)</td>\n",
       "      <td>(6, 4)</td>\n",
       "      <td>(4, 6)</td>\n",
       "      <td>(9, 1)</td>\n",
       "      <td>(10, 0)</td>\n",
       "      <td>(5, 5)</td>\n",
       "    </tr>\n",
       "    <tr>\n",
       "      <th>6</th>\n",
       "      <td>instances/atsp_rand_80_70.txt</td>\n",
       "      <td>(3, 7)</td>\n",
       "      <td>(5, 5)</td>\n",
       "      <td>(3, 7)</td>\n",
       "      <td>(10, 0)</td>\n",
       "      <td>(10, 0)</td>\n",
       "      <td>(5, 5)</td>\n",
       "    </tr>\n",
       "    <tr>\n",
       "      <th>7</th>\n",
       "      <td>instances/atsp_rand_80_100.txt</td>\n",
       "      <td>(6, 4)</td>\n",
       "      <td>(5, 5)</td>\n",
       "      <td>(5, 5)</td>\n",
       "      <td>(9, 1)</td>\n",
       "      <td>(10, 0)</td>\n",
       "      <td>(4, 6)</td>\n",
       "    </tr>\n",
       "  </tbody>\n",
       "</table>\n",
       "</div>"
      ],
      "text/plain": [
       "                        instances swap_first_vs_best swap_first_vs_worst  \\\n",
       "0   instances/atsp_rand_50_75.txt             (6, 4)              (5, 5)   \n",
       "1  instances/atsp_rand_50_100.txt             (5, 5)              (6, 4)   \n",
       "2   instances/atsp_rand_60_50.txt             (4, 6)              (3, 7)   \n",
       "3  instances/atsp_rand_60_100.txt             (4, 6)              (5, 5)   \n",
       "4   instances/atsp_rand_70_55.txt             (7, 3)              (4, 6)   \n",
       "5  instances/atsp_rand_70_100.txt             (5, 5)              (6, 4)   \n",
       "6   instances/atsp_rand_80_70.txt             (3, 7)              (5, 5)   \n",
       "7  instances/atsp_rand_80_100.txt             (6, 4)              (5, 5)   \n",
       "\n",
       "  swap_best_vs_worst 2opt_first_vs_best 2opt_first_vs_worst 2opt_best_vs_worst  \n",
       "0             (4, 6)             (7, 3)              (8, 2)             (6, 4)  \n",
       "1             (5, 5)             (9, 1)             (10, 0)             (7, 3)  \n",
       "2             (5, 5)             (8, 2)             (10, 0)             (7, 3)  \n",
       "3             (5, 5)             (9, 1)             (10, 0)             (7, 3)  \n",
       "4             (5, 5)            (10, 0)              (8, 2)             (3, 7)  \n",
       "5             (4, 6)             (9, 1)             (10, 0)             (5, 5)  \n",
       "6             (3, 7)            (10, 0)             (10, 0)             (5, 5)  \n",
       "7             (5, 5)             (9, 1)             (10, 0)             (4, 6)  "
      ]
     },
     "execution_count": 155,
     "metadata": {},
     "output_type": "execute_result"
    }
   ],
   "source": [
    "result_tuple={\"instances\" : instances}\n",
    "for instance in instances:\n",
    "    #print(instance)\n",
    "    for nr in neighbor_relations:\n",
    "        #print(nr)\n",
    "        for vs in versus:\n",
    "            #print(vs,\" : \",end=\"\")\n",
    "            r=[0,0]\n",
    "            for seed in df[\"Seed\"].unique():\n",
    "                if gagne(instance,nr,seed, vs):\n",
    "                    r[0]+=1\n",
    "                else:\n",
    "                    r[1]+=1\n",
    "            try:\n",
    "                result_tuple[f\"{nr}_{vs[0]}_vs_{vs[1]}\"].append((r[0],r[1]))\n",
    "            except:\n",
    "                result_tuple[f\"{nr}_{vs[0]}_vs_{vs[1]}\"] = [(r[0],r[1])]\n",
    "            #print(r)\n",
    "\n",
    "\n",
    "result_tuple = pd.DataFrame(result_tuple)\n",
    "result_tuple"
   ]
  },
  {
   "cell_type": "code",
   "execution_count": 156,
   "metadata": {},
   "outputs": [
    {
     "data": {
      "text/html": [
       "<div>\n",
       "<style scoped>\n",
       "    .dataframe tbody tr th:only-of-type {\n",
       "        vertical-align: middle;\n",
       "    }\n",
       "\n",
       "    .dataframe tbody tr th {\n",
       "        vertical-align: top;\n",
       "    }\n",
       "\n",
       "    .dataframe thead th {\n",
       "        text-align: right;\n",
       "    }\n",
       "</style>\n",
       "<table border=\"1\" class=\"dataframe\">\n",
       "  <thead>\n",
       "    <tr style=\"text-align: right;\">\n",
       "      <th></th>\n",
       "      <th>instances</th>\n",
       "      <th>swap_first_vs_best</th>\n",
       "      <th>swap_first_vs_worst</th>\n",
       "      <th>swap_best_vs_worst</th>\n",
       "      <th>2opt_first_vs_best</th>\n",
       "      <th>2opt_first_vs_worst</th>\n",
       "      <th>2opt_best_vs_worst</th>\n",
       "    </tr>\n",
       "  </thead>\n",
       "  <tbody>\n",
       "    <tr>\n",
       "      <th>0</th>\n",
       "      <td>instances/atsp_rand_50_75.txt</td>\n",
       "      <td>6</td>\n",
       "      <td>5</td>\n",
       "      <td>4</td>\n",
       "      <td>7</td>\n",
       "      <td>8</td>\n",
       "      <td>6</td>\n",
       "    </tr>\n",
       "    <tr>\n",
       "      <th>1</th>\n",
       "      <td>instances/atsp_rand_50_100.txt</td>\n",
       "      <td>5</td>\n",
       "      <td>6</td>\n",
       "      <td>5</td>\n",
       "      <td>9</td>\n",
       "      <td>10</td>\n",
       "      <td>7</td>\n",
       "    </tr>\n",
       "    <tr>\n",
       "      <th>2</th>\n",
       "      <td>instances/atsp_rand_60_50.txt</td>\n",
       "      <td>4</td>\n",
       "      <td>3</td>\n",
       "      <td>5</td>\n",
       "      <td>8</td>\n",
       "      <td>10</td>\n",
       "      <td>7</td>\n",
       "    </tr>\n",
       "    <tr>\n",
       "      <th>3</th>\n",
       "      <td>instances/atsp_rand_60_100.txt</td>\n",
       "      <td>4</td>\n",
       "      <td>5</td>\n",
       "      <td>5</td>\n",
       "      <td>9</td>\n",
       "      <td>10</td>\n",
       "      <td>7</td>\n",
       "    </tr>\n",
       "    <tr>\n",
       "      <th>4</th>\n",
       "      <td>instances/atsp_rand_70_55.txt</td>\n",
       "      <td>7</td>\n",
       "      <td>4</td>\n",
       "      <td>5</td>\n",
       "      <td>10</td>\n",
       "      <td>8</td>\n",
       "      <td>3</td>\n",
       "    </tr>\n",
       "    <tr>\n",
       "      <th>5</th>\n",
       "      <td>instances/atsp_rand_70_100.txt</td>\n",
       "      <td>5</td>\n",
       "      <td>6</td>\n",
       "      <td>4</td>\n",
       "      <td>9</td>\n",
       "      <td>10</td>\n",
       "      <td>5</td>\n",
       "    </tr>\n",
       "    <tr>\n",
       "      <th>6</th>\n",
       "      <td>instances/atsp_rand_80_70.txt</td>\n",
       "      <td>3</td>\n",
       "      <td>5</td>\n",
       "      <td>3</td>\n",
       "      <td>10</td>\n",
       "      <td>10</td>\n",
       "      <td>5</td>\n",
       "    </tr>\n",
       "    <tr>\n",
       "      <th>7</th>\n",
       "      <td>instances/atsp_rand_80_100.txt</td>\n",
       "      <td>6</td>\n",
       "      <td>5</td>\n",
       "      <td>5</td>\n",
       "      <td>9</td>\n",
       "      <td>10</td>\n",
       "      <td>4</td>\n",
       "    </tr>\n",
       "  </tbody>\n",
       "</table>\n",
       "</div>"
      ],
      "text/plain": [
       "                        instances  swap_first_vs_best  swap_first_vs_worst  \\\n",
       "0   instances/atsp_rand_50_75.txt                   6                    5   \n",
       "1  instances/atsp_rand_50_100.txt                   5                    6   \n",
       "2   instances/atsp_rand_60_50.txt                   4                    3   \n",
       "3  instances/atsp_rand_60_100.txt                   4                    5   \n",
       "4   instances/atsp_rand_70_55.txt                   7                    4   \n",
       "5  instances/atsp_rand_70_100.txt                   5                    6   \n",
       "6   instances/atsp_rand_80_70.txt                   3                    5   \n",
       "7  instances/atsp_rand_80_100.txt                   6                    5   \n",
       "\n",
       "   swap_best_vs_worst  2opt_first_vs_best  2opt_first_vs_worst  \\\n",
       "0                   4                   7                    8   \n",
       "1                   5                   9                   10   \n",
       "2                   5                   8                   10   \n",
       "3                   5                   9                   10   \n",
       "4                   5                  10                    8   \n",
       "5                   4                   9                   10   \n",
       "6                   3                  10                   10   \n",
       "7                   5                   9                   10   \n",
       "\n",
       "   2opt_best_vs_worst  \n",
       "0                   6  \n",
       "1                   7  \n",
       "2                   7  \n",
       "3                   7  \n",
       "4                   3  \n",
       "5                   5  \n",
       "6                   5  \n",
       "7                   4  "
      ]
     },
     "execution_count": 156,
     "metadata": {},
     "output_type": "execute_result"
    }
   ],
   "source": [
    "result={\"instances\" : instances}\n",
    "for instance in instances:\n",
    "    #print(instance)\n",
    "    for nr in neighbor_relations:\n",
    "        #print(nr)\n",
    "        for vs in versus:\n",
    "            #print(vs,\" : \",end=\"\")\n",
    "            r=[0,0]\n",
    "            for seed in df[\"Seed\"].unique():\n",
    "                if gagne(instance,nr,seed, vs):\n",
    "                    r[0]+=1\n",
    "                else:\n",
    "                    r[1]+=1\n",
    "            try:\n",
    "                result[f\"{nr}_{vs[0]}_vs_{vs[1]}\"].append((r[0]))\n",
    "            except:\n",
    "                result[f\"{nr}_{vs[0]}_vs_{vs[1]}\"] = [(r[0])]\n",
    "            #print(r)\n",
    "\n",
    "\n",
    "result = pd.DataFrame(result)\n",
    "result"
   ]
  },
  {
   "cell_type": "code",
   "execution_count": 157,
   "metadata": {},
   "outputs": [
    {
     "data": {
      "text/plain": [
       "4.9375"
      ]
     },
     "execution_count": 157,
     "metadata": {},
     "output_type": "execute_result"
    }
   ],
   "source": [
    "mean_swap_first = (result[\"swap_first_vs_best\"].sum() + result[\"swap_first_vs_worst\"].sum())/16\n",
    "mean_swap_first\n"
   ]
  },
  {
   "cell_type": "code",
   "execution_count": 143,
   "metadata": {},
   "outputs": [
    {
     "data": {
      "text/plain": [
       "4.75"
      ]
     },
     "execution_count": 143,
     "metadata": {},
     "output_type": "execute_result"
    }
   ],
   "source": [
    "mean_swap_best = (80-result[\"swap_first_vs_best\"].sum() + result[\"swap_best_vs_worst\"].sum())/16\n",
    "mean_swap_best "
   ]
  },
  {
   "cell_type": "code",
   "execution_count": 144,
   "metadata": {},
   "outputs": [
    {
     "data": {
      "text/plain": [
       "5.3125"
      ]
     },
     "execution_count": 144,
     "metadata": {},
     "output_type": "execute_result"
    }
   ],
   "source": [
    "mean_swap_worst = (80-result[\"swap_first_vs_worst\"].sum() + 80 - result[\"swap_best_vs_worst\"].sum())/16\n",
    "mean_swap_worst"
   ]
  },
  {
   "cell_type": "code",
   "execution_count": 145,
   "metadata": {},
   "outputs": [
    {
     "data": {
      "text/plain": [
       "9.1875"
      ]
     },
     "execution_count": 145,
     "metadata": {},
     "output_type": "execute_result"
    }
   ],
   "source": [
    "mean_2opt_first = (result[\"2opt_first_vs_best\"].sum() + result[\"2opt_first_vs_worst\"].sum())/16\n",
    "mean_2opt_first"
   ]
  },
  {
   "cell_type": "code",
   "execution_count": 146,
   "metadata": {},
   "outputs": [
    {
     "data": {
      "text/plain": [
       "3.3125"
      ]
     },
     "execution_count": 146,
     "metadata": {},
     "output_type": "execute_result"
    }
   ],
   "source": [
    "mean_2opt_best = (80-result[\"2opt_first_vs_best\"].sum() + result[\"2opt_best_vs_worst\"].sum())/16\n",
    "mean_2opt_best "
   ]
  },
  {
   "cell_type": "code",
   "execution_count": 147,
   "metadata": {},
   "outputs": [
    {
     "data": {
      "text/plain": [
       "2.5"
      ]
     },
     "execution_count": 147,
     "metadata": {},
     "output_type": "execute_result"
    }
   ],
   "source": [
    "mean_2opt_worst = (80-result[\"2opt_first_vs_worst\"].sum() + 80 - result[\"2opt_best_vs_worst\"].sum())/16\n",
    "mean_2opt_worst"
   ]
  },
  {
   "cell_type": "markdown",
   "metadata": {},
   "source": [
    "Pour swap gagnant: worst\n",
    "\n",
    "Pourt 2opt gagnant: first\n"
   ]
  },
  {
   "cell_type": "code",
   "execution_count": 152,
   "metadata": {},
   "outputs": [
    {
     "name": "stdout",
     "output_type": "stream",
     "text": [
      "115 45\n"
     ]
    }
   ],
   "source": [
    "first = result[\"swap_first_vs_worst\"].sum() + result[\"2opt_first_vs_worst\"].sum()\n",
    "worst = 80*2 - first\n",
    "print(first,worst)"
   ]
  },
  {
   "cell_type": "code",
   "execution_count": 165,
   "metadata": {},
   "outputs": [
    {
     "data": {
      "text/plain": [
       "1205.825"
      ]
     },
     "execution_count": 165,
     "metadata": {},
     "output_type": "execute_result"
    }
   ],
   "source": [
    "first_swap = df[(df['Algorithme'] == f\"first_improver_swap_descente\") ]\n",
    "first_swap[\"Score\"].mean()"
   ]
  },
  {
   "cell_type": "code",
   "execution_count": 167,
   "metadata": {},
   "outputs": [
    {
     "data": {
      "text/plain": [
       "1206.7625"
      ]
     },
     "execution_count": 167,
     "metadata": {},
     "output_type": "execute_result"
    }
   ],
   "source": [
    "best_swap = df[(df['Algorithme'] == f\"best_improver_swap_descente\") ]\n",
    "best_swap[\"Score\"].mean()"
   ]
  },
  {
   "cell_type": "code",
   "execution_count": 166,
   "metadata": {},
   "outputs": [
    {
     "data": {
      "text/plain": [
       "1596.2125"
      ]
     },
     "execution_count": 166,
     "metadata": {},
     "output_type": "execute_result"
    }
   ],
   "source": [
    "first_2opt = df[(df['Algorithme'] == f\"first_improver_2opt_descente\") ]\n",
    "first_2opt[\"Score\"].mean()"
   ]
  },
  {
   "cell_type": "code",
   "execution_count": 168,
   "metadata": {},
   "outputs": [
    {
     "data": {
      "text/plain": [
       "1801.5"
      ]
     },
     "execution_count": 168,
     "metadata": {},
     "output_type": "execute_result"
    }
   ],
   "source": [
    "best_2opt = df[(df['Algorithme'] == f\"best_improver_2opt_descente\") ]\n",
    "best_2opt[\"Score\"].mean()"
   ]
  }
 ],
 "metadata": {
  "kernelspec": {
   "display_name": "base",
   "language": "python",
   "name": "python3"
  },
  "language_info": {
   "codemirror_mode": {
    "name": "ipython",
    "version": 3
   },
   "file_extension": ".py",
   "mimetype": "text/x-python",
   "name": "python",
   "nbconvert_exporter": "python",
   "pygments_lexer": "ipython3",
   "version": "3.9.7"
  }
 },
 "nbformat": 4,
 "nbformat_minor": 2
}
