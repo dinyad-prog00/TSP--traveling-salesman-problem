{
 "cells": [
  {
   "cell_type": "code",
   "execution_count": 2,
   "metadata": {},
   "outputs": [],
   "source": [
    "import pandas as pd\n",
    "\n",
    "# Charger le fichier CSV\n",
    "df = pd.read_csv('../execution_results2/execute_ils.csv')\n"
   ]
  },
  {
   "cell_type": "code",
   "execution_count": 3,
   "metadata": {},
   "outputs": [
    {
     "data": {
      "text/html": [
       "<div>\n",
       "<style scoped>\n",
       "    .dataframe tbody tr th:only-of-type {\n",
       "        vertical-align: middle;\n",
       "    }\n",
       "\n",
       "    .dataframe tbody tr th {\n",
       "        vertical-align: top;\n",
       "    }\n",
       "\n",
       "    .dataframe thead th {\n",
       "        text-align: right;\n",
       "    }\n",
       "</style>\n",
       "<table border=\"1\" class=\"dataframe\">\n",
       "  <thead>\n",
       "    <tr style=\"text-align: right;\">\n",
       "      <th></th>\n",
       "      <th>Instance</th>\n",
       "      <th>Algorithme</th>\n",
       "      <th>Seed</th>\n",
       "      <th>Score</th>\n",
       "      <th>NbPertubations</th>\n",
       "      <th>MaxEval</th>\n",
       "      <th>CPU-Used-Time (ms)</th>\n",
       "    </tr>\n",
       "  </thead>\n",
       "  <tbody>\n",
       "    <tr>\n",
       "      <th>0</th>\n",
       "      <td>instances/atsp_rand_50_75.txt</td>\n",
       "      <td>iterated_local_search_best_improver_2opt</td>\n",
       "      <td>50</td>\n",
       "      <td>1947</td>\n",
       "      <td>6</td>\n",
       "      <td>1000000</td>\n",
       "      <td>181.260</td>\n",
       "    </tr>\n",
       "    <tr>\n",
       "      <th>1</th>\n",
       "      <td>instances/atsp_rand_50_75.txt</td>\n",
       "      <td>iterated_local_search_best_improver_2opt</td>\n",
       "      <td>50</td>\n",
       "      <td>1971</td>\n",
       "      <td>9</td>\n",
       "      <td>1000000</td>\n",
       "      <td>172.442</td>\n",
       "    </tr>\n",
       "    <tr>\n",
       "      <th>2</th>\n",
       "      <td>instances/atsp_rand_50_75.txt</td>\n",
       "      <td>iterated_local_search_best_improver_2opt</td>\n",
       "      <td>51</td>\n",
       "      <td>2021</td>\n",
       "      <td>6</td>\n",
       "      <td>1000000</td>\n",
       "      <td>171.959</td>\n",
       "    </tr>\n",
       "    <tr>\n",
       "      <th>3</th>\n",
       "      <td>instances/atsp_rand_50_75.txt</td>\n",
       "      <td>iterated_local_search_best_improver_2opt</td>\n",
       "      <td>51</td>\n",
       "      <td>2023</td>\n",
       "      <td>9</td>\n",
       "      <td>1000000</td>\n",
       "      <td>172.661</td>\n",
       "    </tr>\n",
       "    <tr>\n",
       "      <th>4</th>\n",
       "      <td>instances/atsp_rand_50_75.txt</td>\n",
       "      <td>iterated_local_search_best_improver_2opt</td>\n",
       "      <td>52</td>\n",
       "      <td>1953</td>\n",
       "      <td>6</td>\n",
       "      <td>1000000</td>\n",
       "      <td>173.042</td>\n",
       "    </tr>\n",
       "  </tbody>\n",
       "</table>\n",
       "</div>"
      ],
      "text/plain": [
       "                        Instance                                Algorithme  \\\n",
       "0  instances/atsp_rand_50_75.txt  iterated_local_search_best_improver_2opt   \n",
       "1  instances/atsp_rand_50_75.txt  iterated_local_search_best_improver_2opt   \n",
       "2  instances/atsp_rand_50_75.txt  iterated_local_search_best_improver_2opt   \n",
       "3  instances/atsp_rand_50_75.txt  iterated_local_search_best_improver_2opt   \n",
       "4  instances/atsp_rand_50_75.txt  iterated_local_search_best_improver_2opt   \n",
       "\n",
       "   Seed  Score  NbPertubations  MaxEval  CPU-Used-Time (ms)  \n",
       "0    50   1947               6  1000000             181.260  \n",
       "1    50   1971               9  1000000             172.442  \n",
       "2    51   2021               6  1000000             171.959  \n",
       "3    51   2023               9  1000000             172.661  \n",
       "4    52   1953               6  1000000             173.042  "
      ]
     },
     "execution_count": 3,
     "metadata": {},
     "output_type": "execute_result"
    }
   ],
   "source": [
    "df.head()"
   ]
  },
  {
   "cell_type": "code",
   "execution_count": 4,
   "metadata": {},
   "outputs": [],
   "source": [
    "neighbor_relations = [\"swap\",\"2opt\"]\n",
    "choice_mehod = ['first', 'best']\n",
    "versus = [('first', 'best')]\n",
    "instances = df['Instance'].unique()\n",
    "nb_perturbs = df[\"NbPertubations\"].unique()"
   ]
  },
  {
   "cell_type": "code",
   "execution_count": 5,
   "metadata": {},
   "outputs": [],
   "source": [
    "def get_score(instance,neighbor_relation,choice_mehod,seed,nbp):\n",
    "    filtre = (\n",
    "    (df['Instance'] == instance) &\n",
    "    (df['Algorithme'] == f\"iterated_local_search_{choice_mehod}_improver_{neighbor_relation}\") &\n",
    "    (df['Seed'] == seed) & \n",
    "    (df[\"NbPertubations\"] == nbp)\n",
    "    )\n",
    "    r=df[filtre]\n",
    "    if r.size != 0:\n",
    "        return r.iloc[0][3]\n",
    "    else:\n",
    "        print(instance,neighbor_relation,choice_mehod,seed)\n",
    "    "
   ]
  },
  {
   "cell_type": "code",
   "execution_count": 6,
   "metadata": {},
   "outputs": [],
   "source": [
    "def gagne(instance,neighbor_relation,seed, vs,nbp):\n",
    "    #print(\"vs:\",vs)\n",
    "    s1 = get_score(instance,neighbor_relation,vs[0],seed,nbp)\n",
    "    s2 = get_score(instance,neighbor_relation,vs[1],seed,nbp)\n",
    "    return s1 < s2"
   ]
  },
  {
   "cell_type": "code",
   "execution_count": 7,
   "metadata": {},
   "outputs": [
    {
     "data": {
      "text/plain": [
       "1971"
      ]
     },
     "execution_count": 7,
     "metadata": {},
     "output_type": "execute_result"
    }
   ],
   "source": [
    "get_score(\"instances/atsp_rand_50_75.txt\",\"2opt\",\"best\",50,9)"
   ]
  },
  {
   "cell_type": "code",
   "execution_count": 8,
   "metadata": {},
   "outputs": [
    {
     "data": {
      "text/plain": [
       "1880"
      ]
     },
     "execution_count": 8,
     "metadata": {},
     "output_type": "execute_result"
    }
   ],
   "source": [
    "get_score(\"instances/atsp_rand_50_75.txt\",\"2opt\",\"first\",50,9)"
   ]
  },
  {
   "cell_type": "code",
   "execution_count": 9,
   "metadata": {},
   "outputs": [
    {
     "data": {
      "text/plain": [
       "True"
      ]
     },
     "execution_count": 9,
     "metadata": {},
     "output_type": "execute_result"
    }
   ],
   "source": [
    "gagne(\"instances/atsp_rand_50_75.txt\",\"2opt\",50, (\"first\",\"best\"),9)"
   ]
  },
  {
   "cell_type": "code",
   "execution_count": 10,
   "metadata": {},
   "outputs": [
    {
     "data": {
      "text/plain": [
       "array([50, 51, 52, 53, 54, 55, 56, 57, 58, 59])"
      ]
     },
     "execution_count": 10,
     "metadata": {},
     "output_type": "execute_result"
    }
   ],
   "source": [
    "df[\"Seed\"].unique()"
   ]
  },
  {
   "cell_type": "code",
   "execution_count": 11,
   "metadata": {},
   "outputs": [
    {
     "data": {
      "text/html": [
       "<div>\n",
       "<style scoped>\n",
       "    .dataframe tbody tr th:only-of-type {\n",
       "        vertical-align: middle;\n",
       "    }\n",
       "\n",
       "    .dataframe tbody tr th {\n",
       "        vertical-align: top;\n",
       "    }\n",
       "\n",
       "    .dataframe thead th {\n",
       "        text-align: right;\n",
       "    }\n",
       "</style>\n",
       "<table border=\"1\" class=\"dataframe\">\n",
       "  <thead>\n",
       "    <tr style=\"text-align: right;\">\n",
       "      <th></th>\n",
       "      <th>instances</th>\n",
       "      <th>swap_first_vs_best</th>\n",
       "      <th>2opt_first_vs_best</th>\n",
       "    </tr>\n",
       "  </thead>\n",
       "  <tbody>\n",
       "    <tr>\n",
       "      <th>0</th>\n",
       "      <td>instances/atsp_rand_50_75.txt</td>\n",
       "      <td>(11, 9)</td>\n",
       "      <td>(15, 5)</td>\n",
       "    </tr>\n",
       "    <tr>\n",
       "      <th>1</th>\n",
       "      <td>instances/atsp_rand_50_100.txt</td>\n",
       "      <td>(5, 15)</td>\n",
       "      <td>(19, 1)</td>\n",
       "    </tr>\n",
       "    <tr>\n",
       "      <th>2</th>\n",
       "      <td>instances/atsp_rand_60_50.txt</td>\n",
       "      <td>(11, 9)</td>\n",
       "      <td>(17, 3)</td>\n",
       "    </tr>\n",
       "    <tr>\n",
       "      <th>3</th>\n",
       "      <td>instances/atsp_rand_60_100.txt</td>\n",
       "      <td>(6, 14)</td>\n",
       "      <td>(18, 2)</td>\n",
       "    </tr>\n",
       "    <tr>\n",
       "      <th>4</th>\n",
       "      <td>instances/atsp_rand_70_55.txt</td>\n",
       "      <td>(9, 11)</td>\n",
       "      <td>(18, 2)</td>\n",
       "    </tr>\n",
       "    <tr>\n",
       "      <th>5</th>\n",
       "      <td>instances/atsp_rand_70_100.txt</td>\n",
       "      <td>(13, 7)</td>\n",
       "      <td>(20, 0)</td>\n",
       "    </tr>\n",
       "    <tr>\n",
       "      <th>6</th>\n",
       "      <td>instances/atsp_rand_80_70.txt</td>\n",
       "      <td>(10, 10)</td>\n",
       "      <td>(18, 2)</td>\n",
       "    </tr>\n",
       "    <tr>\n",
       "      <th>7</th>\n",
       "      <td>instances/atsp_rand_80_100.txt</td>\n",
       "      <td>(10, 10)</td>\n",
       "      <td>(18, 2)</td>\n",
       "    </tr>\n",
       "  </tbody>\n",
       "</table>\n",
       "</div>"
      ],
      "text/plain": [
       "                        instances swap_first_vs_best 2opt_first_vs_best\n",
       "0   instances/atsp_rand_50_75.txt            (11, 9)            (15, 5)\n",
       "1  instances/atsp_rand_50_100.txt            (5, 15)            (19, 1)\n",
       "2   instances/atsp_rand_60_50.txt            (11, 9)            (17, 3)\n",
       "3  instances/atsp_rand_60_100.txt            (6, 14)            (18, 2)\n",
       "4   instances/atsp_rand_70_55.txt            (9, 11)            (18, 2)\n",
       "5  instances/atsp_rand_70_100.txt            (13, 7)            (20, 0)\n",
       "6   instances/atsp_rand_80_70.txt           (10, 10)            (18, 2)\n",
       "7  instances/atsp_rand_80_100.txt           (10, 10)            (18, 2)"
      ]
     },
     "execution_count": 11,
     "metadata": {},
     "output_type": "execute_result"
    }
   ],
   "source": [
    "result_tuple={\"instances\" : instances}\n",
    "for instance in instances:\n",
    "    #print(instance)\n",
    "    for nr in neighbor_relations:\n",
    "        #print(nr)\n",
    "        for vs in versus:\n",
    "            #print(vs,\" : \",end=\"\")\n",
    "            r=[0,0]\n",
    "            for nbp in nb_perturbs:\n",
    "                for seed in df[\"Seed\"].unique():\n",
    "                    if gagne(instance,nr,seed, vs,nbp):\n",
    "                        r[0]+=1\n",
    "                    else:\n",
    "                        r[1]+=1\n",
    "            try:\n",
    "                result_tuple[f\"{nr}_{vs[0]}_vs_{vs[1]}\"].append((r[0],r[1]))\n",
    "            except:\n",
    "                result_tuple[f\"{nr}_{vs[0]}_vs_{vs[1]}\"] = [(r[0],r[1])]\n",
    "            #print(r)\n",
    "                \n",
    "result_tuple = pd.DataFrame(result_tuple)\n",
    "result_tuple"
   ]
  },
  {
   "cell_type": "code",
   "execution_count": 12,
   "metadata": {},
   "outputs": [
    {
     "data": {
      "text/html": [
       "<div>\n",
       "<style scoped>\n",
       "    .dataframe tbody tr th:only-of-type {\n",
       "        vertical-align: middle;\n",
       "    }\n",
       "\n",
       "    .dataframe tbody tr th {\n",
       "        vertical-align: top;\n",
       "    }\n",
       "\n",
       "    .dataframe thead th {\n",
       "        text-align: right;\n",
       "    }\n",
       "</style>\n",
       "<table border=\"1\" class=\"dataframe\">\n",
       "  <thead>\n",
       "    <tr style=\"text-align: right;\">\n",
       "      <th></th>\n",
       "      <th>Score</th>\n",
       "    </tr>\n",
       "    <tr>\n",
       "      <th>Algorithme</th>\n",
       "      <th></th>\n",
       "    </tr>\n",
       "  </thead>\n",
       "  <tbody>\n",
       "    <tr>\n",
       "      <th>iterated_local_search_best_improver_2opt</th>\n",
       "      <td>1654.21875</td>\n",
       "    </tr>\n",
       "    <tr>\n",
       "      <th>iterated_local_search_best_improver_swap</th>\n",
       "      <td>1161.33750</td>\n",
       "    </tr>\n",
       "    <tr>\n",
       "      <th>iterated_local_search_first_improver_2opt</th>\n",
       "      <td>1496.33125</td>\n",
       "    </tr>\n",
       "    <tr>\n",
       "      <th>iterated_local_search_first_improver_swap</th>\n",
       "      <td>1163.11250</td>\n",
       "    </tr>\n",
       "  </tbody>\n",
       "</table>\n",
       "</div>"
      ],
      "text/plain": [
       "                                                Score\n",
       "Algorithme                                           \n",
       "iterated_local_search_best_improver_2opt   1654.21875\n",
       "iterated_local_search_best_improver_swap   1161.33750\n",
       "iterated_local_search_first_improver_2opt  1496.33125\n",
       "iterated_local_search_first_improver_swap  1163.11250"
      ]
     },
     "execution_count": 12,
     "metadata": {},
     "output_type": "execute_result"
    }
   ],
   "source": [
    "df_group = df[[\"Algorithme\",\"Score\"]].groupby(\"Algorithme\")\n",
    "df_group.mean()"
   ]
  },
  {
   "cell_type": "code",
   "execution_count": 13,
   "metadata": {},
   "outputs": [
    {
     "data": {
      "text/html": [
       "<div>\n",
       "<style scoped>\n",
       "    .dataframe tbody tr th:only-of-type {\n",
       "        vertical-align: middle;\n",
       "    }\n",
       "\n",
       "    .dataframe tbody tr th {\n",
       "        vertical-align: top;\n",
       "    }\n",
       "\n",
       "    .dataframe thead th {\n",
       "        text-align: right;\n",
       "    }\n",
       "</style>\n",
       "<table border=\"1\" class=\"dataframe\">\n",
       "  <thead>\n",
       "    <tr style=\"text-align: right;\">\n",
       "      <th></th>\n",
       "      <th>CPU-Used-Time (ms)</th>\n",
       "    </tr>\n",
       "    <tr>\n",
       "      <th>Algorithme</th>\n",
       "      <th></th>\n",
       "    </tr>\n",
       "  </thead>\n",
       "  <tbody>\n",
       "    <tr>\n",
       "      <th>iterated_local_search_best_improver_2opt</th>\n",
       "      <td>223.922163</td>\n",
       "    </tr>\n",
       "    <tr>\n",
       "      <th>iterated_local_search_best_improver_swap</th>\n",
       "      <td>188.638675</td>\n",
       "    </tr>\n",
       "    <tr>\n",
       "      <th>iterated_local_search_first_improver_2opt</th>\n",
       "      <td>229.166100</td>\n",
       "    </tr>\n",
       "    <tr>\n",
       "      <th>iterated_local_search_first_improver_swap</th>\n",
       "      <td>191.710950</td>\n",
       "    </tr>\n",
       "  </tbody>\n",
       "</table>\n",
       "</div>"
      ],
      "text/plain": [
       "                                           CPU-Used-Time (ms)\n",
       "Algorithme                                                   \n",
       "iterated_local_search_best_improver_2opt           223.922163\n",
       "iterated_local_search_best_improver_swap           188.638675\n",
       "iterated_local_search_first_improver_2opt          229.166100\n",
       "iterated_local_search_first_improver_swap          191.710950"
      ]
     },
     "execution_count": 13,
     "metadata": {},
     "output_type": "execute_result"
    }
   ],
   "source": [
    "df_group = df[[\"Algorithme\",\"CPU-Used-Time (ms)\"]].groupby(\"Algorithme\")\n",
    "df_group.mean()"
   ]
  }
 ],
 "metadata": {
  "kernelspec": {
   "display_name": "base",
   "language": "python",
   "name": "python3"
  },
  "language_info": {
   "codemirror_mode": {
    "name": "ipython",
    "version": 3
   },
   "file_extension": ".py",
   "mimetype": "text/x-python",
   "name": "python",
   "nbconvert_exporter": "python",
   "pygments_lexer": "ipython3",
   "version": "3.11.5"
  }
 },
 "nbformat": 4,
 "nbformat_minor": 2
}
