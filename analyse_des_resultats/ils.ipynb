{
 "cells": [
  {
   "cell_type": "code",
   "execution_count": 2,
   "metadata": {},
   "outputs": [],
   "source": [
    "import pandas as pd\n",
    "\n",
    "# Charger le fichier CSV\n",
    "df = pd.read_csv('../execution_results/execute_ils.csv')\n"
   ]
  },
  {
   "cell_type": "code",
   "execution_count": 3,
   "metadata": {},
   "outputs": [
    {
     "data": {
      "text/html": [
       "<div>\n",
       "<style scoped>\n",
       "    .dataframe tbody tr th:only-of-type {\n",
       "        vertical-align: middle;\n",
       "    }\n",
       "\n",
       "    .dataframe tbody tr th {\n",
       "        vertical-align: top;\n",
       "    }\n",
       "\n",
       "    .dataframe thead th {\n",
       "        text-align: right;\n",
       "    }\n",
       "</style>\n",
       "<table border=\"1\" class=\"dataframe\">\n",
       "  <thead>\n",
       "    <tr style=\"text-align: right;\">\n",
       "      <th></th>\n",
       "      <th>Instance</th>\n",
       "      <th>Algorithme</th>\n",
       "      <th>Seed</th>\n",
       "      <th>Score</th>\n",
       "      <th>NbPertubations</th>\n",
       "      <th>MaxEval</th>\n",
       "      <th>CPU-Used-Time (ms)</th>\n",
       "    </tr>\n",
       "  </thead>\n",
       "  <tbody>\n",
       "    <tr>\n",
       "      <th>0</th>\n",
       "      <td>instances/atsp_rand_50_75.txt</td>\n",
       "      <td>iterated_local_search_best_improver_2opt</td>\n",
       "      <td>50</td>\n",
       "      <td>1879</td>\n",
       "      <td>6</td>\n",
       "      <td>100000</td>\n",
       "      <td>43.475</td>\n",
       "    </tr>\n",
       "    <tr>\n",
       "      <th>1</th>\n",
       "      <td>instances/atsp_rand_50_75.txt</td>\n",
       "      <td>iterated_local_search_best_improver_2opt</td>\n",
       "      <td>50</td>\n",
       "      <td>1971</td>\n",
       "      <td>9</td>\n",
       "      <td>100000</td>\n",
       "      <td>50.171</td>\n",
       "    </tr>\n",
       "    <tr>\n",
       "      <th>2</th>\n",
       "      <td>instances/atsp_rand_50_75.txt</td>\n",
       "      <td>iterated_local_search_best_improver_2opt</td>\n",
       "      <td>51</td>\n",
       "      <td>2014</td>\n",
       "      <td>6</td>\n",
       "      <td>100000</td>\n",
       "      <td>40.724</td>\n",
       "    </tr>\n",
       "    <tr>\n",
       "      <th>3</th>\n",
       "      <td>instances/atsp_rand_50_75.txt</td>\n",
       "      <td>iterated_local_search_best_improver_2opt</td>\n",
       "      <td>51</td>\n",
       "      <td>2049</td>\n",
       "      <td>9</td>\n",
       "      <td>100000</td>\n",
       "      <td>47.291</td>\n",
       "    </tr>\n",
       "    <tr>\n",
       "      <th>4</th>\n",
       "      <td>instances/atsp_rand_50_75.txt</td>\n",
       "      <td>iterated_local_search_best_improver_2opt</td>\n",
       "      <td>52</td>\n",
       "      <td>1896</td>\n",
       "      <td>6</td>\n",
       "      <td>100000</td>\n",
       "      <td>48.810</td>\n",
       "    </tr>\n",
       "  </tbody>\n",
       "</table>\n",
       "</div>"
      ],
      "text/plain": [
       "                        Instance                                Algorithme  \\\n",
       "0  instances/atsp_rand_50_75.txt  iterated_local_search_best_improver_2opt   \n",
       "1  instances/atsp_rand_50_75.txt  iterated_local_search_best_improver_2opt   \n",
       "2  instances/atsp_rand_50_75.txt  iterated_local_search_best_improver_2opt   \n",
       "3  instances/atsp_rand_50_75.txt  iterated_local_search_best_improver_2opt   \n",
       "4  instances/atsp_rand_50_75.txt  iterated_local_search_best_improver_2opt   \n",
       "\n",
       "   Seed  Score  NbPertubations  MaxEval  CPU-Used-Time (ms)  \n",
       "0    50   1879               6   100000              43.475  \n",
       "1    50   1971               9   100000              50.171  \n",
       "2    51   2014               6   100000              40.724  \n",
       "3    51   2049               9   100000              47.291  \n",
       "4    52   1896               6   100000              48.810  "
      ]
     },
     "execution_count": 3,
     "metadata": {},
     "output_type": "execute_result"
    }
   ],
   "source": [
    "df.head()"
   ]
  },
  {
   "cell_type": "code",
   "execution_count": 10,
   "metadata": {},
   "outputs": [],
   "source": [
    "neighbor_relations = [\"swap\",\"2opt\"]\n",
    "choice_mehod = ['first', 'best']\n",
    "versus = [('first', 'best')]\n",
    "instances = df['Instance'].unique()\n",
    "nb_perturbs = df[\"NbPertubations\"].unique()"
   ]
  },
  {
   "cell_type": "code",
   "execution_count": 15,
   "metadata": {},
   "outputs": [],
   "source": [
    "def get_score(instance,neighbor_relation,choice_mehod,seed,nbp):\n",
    "    filtre = (\n",
    "    (df['Instance'] == instance) &\n",
    "    (df['Algorithme'] == f\"iterated_local_search_{choice_mehod}_improver_{neighbor_relation}\") &\n",
    "    (df['Seed'] == seed) & \n",
    "    (df[\"NbPertubations\"] == nbp)\n",
    "    )\n",
    "    r=df[filtre]\n",
    "    if r.size != 0:\n",
    "        return r.iloc[0][3]\n",
    "    else:\n",
    "        print(instance,neighbor_relation,choice_mehod,seed)\n",
    "    "
   ]
  },
  {
   "cell_type": "code",
   "execution_count": 21,
   "metadata": {},
   "outputs": [],
   "source": [
    "def gagne(instance,neighbor_relation,seed, vs,nbp):\n",
    "    #print(\"vs:\",vs)\n",
    "    s1 = get_score(instance,neighbor_relation,vs[0],seed,nbp)\n",
    "    s2 = get_score(instance,neighbor_relation,vs[1],seed,nbp)\n",
    "    return s1 < s2"
   ]
  },
  {
   "cell_type": "code",
   "execution_count": 20,
   "metadata": {},
   "outputs": [
    {
     "data": {
      "text/plain": [
       "1971"
      ]
     },
     "execution_count": 20,
     "metadata": {},
     "output_type": "execute_result"
    }
   ],
   "source": [
    "get_score(\"instances/atsp_rand_50_75.txt\",\"2opt\",\"best\",50,9)"
   ]
  },
  {
   "cell_type": "code",
   "execution_count": 26,
   "metadata": {},
   "outputs": [
    {
     "data": {
      "text/plain": [
       "1860"
      ]
     },
     "execution_count": 26,
     "metadata": {},
     "output_type": "execute_result"
    }
   ],
   "source": [
    "get_score(\"instances/atsp_rand_50_75.txt\",\"2opt\",\"first\",50,9)"
   ]
  },
  {
   "cell_type": "code",
   "execution_count": 28,
   "metadata": {},
   "outputs": [
    {
     "data": {
      "text/plain": [
       "True"
      ]
     },
     "execution_count": 28,
     "metadata": {},
     "output_type": "execute_result"
    }
   ],
   "source": [
    "gagne(\"instances/atsp_rand_50_75.txt\",\"2opt\",50, (\"first\",\"best\"),9)"
   ]
  },
  {
   "cell_type": "code",
   "execution_count": 34,
   "metadata": {},
   "outputs": [
    {
     "data": {
      "text/html": [
       "<div>\n",
       "<style scoped>\n",
       "    .dataframe tbody tr th:only-of-type {\n",
       "        vertical-align: middle;\n",
       "    }\n",
       "\n",
       "    .dataframe tbody tr th {\n",
       "        vertical-align: top;\n",
       "    }\n",
       "\n",
       "    .dataframe thead th {\n",
       "        text-align: right;\n",
       "    }\n",
       "</style>\n",
       "<table border=\"1\" class=\"dataframe\">\n",
       "  <thead>\n",
       "    <tr style=\"text-align: right;\">\n",
       "      <th></th>\n",
       "      <th>instances</th>\n",
       "      <th>swap_first_vs_best</th>\n",
       "      <th>2opt_first_vs_best</th>\n",
       "    </tr>\n",
       "  </thead>\n",
       "  <tbody>\n",
       "    <tr>\n",
       "      <th>0</th>\n",
       "      <td>instances/atsp_rand_50_75.txt</td>\n",
       "      <td>(11, 9)</td>\n",
       "      <td>(16, 4)</td>\n",
       "    </tr>\n",
       "    <tr>\n",
       "      <th>1</th>\n",
       "      <td>instances/atsp_rand_50_100.txt</td>\n",
       "      <td>(10, 10)</td>\n",
       "      <td>(19, 1)</td>\n",
       "    </tr>\n",
       "    <tr>\n",
       "      <th>2</th>\n",
       "      <td>instances/atsp_rand_60_50.txt</td>\n",
       "      <td>(13, 7)</td>\n",
       "      <td>(17, 3)</td>\n",
       "    </tr>\n",
       "    <tr>\n",
       "      <th>3</th>\n",
       "      <td>instances/atsp_rand_60_100.txt</td>\n",
       "      <td>(5, 15)</td>\n",
       "      <td>(15, 5)</td>\n",
       "    </tr>\n",
       "    <tr>\n",
       "      <th>4</th>\n",
       "      <td>instances/atsp_rand_70_55.txt</td>\n",
       "      <td>(14, 6)</td>\n",
       "      <td>(16, 4)</td>\n",
       "    </tr>\n",
       "    <tr>\n",
       "      <th>5</th>\n",
       "      <td>instances/atsp_rand_70_100.txt</td>\n",
       "      <td>(13, 7)</td>\n",
       "      <td>(19, 1)</td>\n",
       "    </tr>\n",
       "    <tr>\n",
       "      <th>6</th>\n",
       "      <td>instances/atsp_rand_80_70.txt</td>\n",
       "      <td>(14, 6)</td>\n",
       "      <td>(18, 2)</td>\n",
       "    </tr>\n",
       "    <tr>\n",
       "      <th>7</th>\n",
       "      <td>instances/atsp_rand_80_100.txt</td>\n",
       "      <td>(19, 1)</td>\n",
       "      <td>(17, 3)</td>\n",
       "    </tr>\n",
       "  </tbody>\n",
       "</table>\n",
       "</div>"
      ],
      "text/plain": [
       "                        instances swap_first_vs_best 2opt_first_vs_best\n",
       "0   instances/atsp_rand_50_75.txt            (11, 9)            (16, 4)\n",
       "1  instances/atsp_rand_50_100.txt           (10, 10)            (19, 1)\n",
       "2   instances/atsp_rand_60_50.txt            (13, 7)            (17, 3)\n",
       "3  instances/atsp_rand_60_100.txt            (5, 15)            (15, 5)\n",
       "4   instances/atsp_rand_70_55.txt            (14, 6)            (16, 4)\n",
       "5  instances/atsp_rand_70_100.txt            (13, 7)            (19, 1)\n",
       "6   instances/atsp_rand_80_70.txt            (14, 6)            (18, 2)\n",
       "7  instances/atsp_rand_80_100.txt            (19, 1)            (17, 3)"
      ]
     },
     "execution_count": 34,
     "metadata": {},
     "output_type": "execute_result"
    }
   ],
   "source": [
    "result_tuple={\"instances\" : instances}\n",
    "for instance in instances:\n",
    "    #print(instance)\n",
    "    for nr in neighbor_relations:\n",
    "        #print(nr)\n",
    "        for vs in versus:\n",
    "            #print(vs,\" : \",end=\"\")\n",
    "            r=[0,0]\n",
    "            for nbp in nb_perturbs:\n",
    "                for seed in df[\"Seed\"].unique():\n",
    "                    if gagne(instance,nr,seed, vs,nbp):\n",
    "                        r[0]+=1\n",
    "                    else:\n",
    "                        r[1]+=1\n",
    "            try:\n",
    "                result_tuple[f\"{nr}_{vs[0]}_vs_{vs[1]}\"].append((r[0],r[1]))\n",
    "            except:\n",
    "                result_tuple[f\"{nr}_{vs[0]}_vs_{vs[1]}\"] = [(r[0],r[1])]\n",
    "            #print(r)\n",
    "                \n",
    "result_tuple = pd.DataFrame(result_tuple)\n",
    "result_tuple"
   ]
  },
  {
   "cell_type": "code",
   "execution_count": 36,
   "metadata": {},
   "outputs": [
    {
     "data": {
      "text/html": [
       "<div>\n",
       "<style scoped>\n",
       "    .dataframe tbody tr th:only-of-type {\n",
       "        vertical-align: middle;\n",
       "    }\n",
       "\n",
       "    .dataframe tbody tr th {\n",
       "        vertical-align: top;\n",
       "    }\n",
       "\n",
       "    .dataframe thead th {\n",
       "        text-align: right;\n",
       "    }\n",
       "</style>\n",
       "<table border=\"1\" class=\"dataframe\">\n",
       "  <thead>\n",
       "    <tr style=\"text-align: right;\">\n",
       "      <th></th>\n",
       "      <th>instances</th>\n",
       "      <th>swap_first_vs_best</th>\n",
       "      <th>2opt_first_vs_best</th>\n",
       "    </tr>\n",
       "  </thead>\n",
       "  <tbody>\n",
       "    <tr>\n",
       "      <th>0</th>\n",
       "      <td>instances/atsp_rand_50_75.txt</td>\n",
       "      <td>11</td>\n",
       "      <td>16</td>\n",
       "    </tr>\n",
       "    <tr>\n",
       "      <th>1</th>\n",
       "      <td>instances/atsp_rand_50_100.txt</td>\n",
       "      <td>10</td>\n",
       "      <td>19</td>\n",
       "    </tr>\n",
       "    <tr>\n",
       "      <th>2</th>\n",
       "      <td>instances/atsp_rand_60_50.txt</td>\n",
       "      <td>13</td>\n",
       "      <td>17</td>\n",
       "    </tr>\n",
       "    <tr>\n",
       "      <th>3</th>\n",
       "      <td>instances/atsp_rand_60_100.txt</td>\n",
       "      <td>5</td>\n",
       "      <td>15</td>\n",
       "    </tr>\n",
       "    <tr>\n",
       "      <th>4</th>\n",
       "      <td>instances/atsp_rand_70_55.txt</td>\n",
       "      <td>14</td>\n",
       "      <td>16</td>\n",
       "    </tr>\n",
       "    <tr>\n",
       "      <th>5</th>\n",
       "      <td>instances/atsp_rand_70_100.txt</td>\n",
       "      <td>13</td>\n",
       "      <td>19</td>\n",
       "    </tr>\n",
       "    <tr>\n",
       "      <th>6</th>\n",
       "      <td>instances/atsp_rand_80_70.txt</td>\n",
       "      <td>14</td>\n",
       "      <td>18</td>\n",
       "    </tr>\n",
       "    <tr>\n",
       "      <th>7</th>\n",
       "      <td>instances/atsp_rand_80_100.txt</td>\n",
       "      <td>19</td>\n",
       "      <td>17</td>\n",
       "    </tr>\n",
       "  </tbody>\n",
       "</table>\n",
       "</div>"
      ],
      "text/plain": [
       "                        instances  swap_first_vs_best  2opt_first_vs_best\n",
       "0   instances/atsp_rand_50_75.txt                  11                  16\n",
       "1  instances/atsp_rand_50_100.txt                  10                  19\n",
       "2   instances/atsp_rand_60_50.txt                  13                  17\n",
       "3  instances/atsp_rand_60_100.txt                   5                  15\n",
       "4   instances/atsp_rand_70_55.txt                  14                  16\n",
       "5  instances/atsp_rand_70_100.txt                  13                  19\n",
       "6   instances/atsp_rand_80_70.txt                  14                  18\n",
       "7  instances/atsp_rand_80_100.txt                  19                  17"
      ]
     },
     "execution_count": 36,
     "metadata": {},
     "output_type": "execute_result"
    }
   ],
   "source": [
    "result={\"instances\" : instances}\n",
    "for instance in instances:\n",
    "    #print(instance)\n",
    "    for nr in neighbor_relations:\n",
    "        #print(nr)\n",
    "        for vs in versus:\n",
    "            #print(vs,\" : \",end=\"\")\n",
    "            r=[0,0]\n",
    "            for nbp in nb_perturbs:\n",
    "                for seed in df[\"Seed\"].unique():\n",
    "                    if gagne(instance,nr,seed, vs,nbp):\n",
    "                        r[0]+=1\n",
    "                    else:\n",
    "                        r[1]+=1\n",
    "            try:\n",
    "                result[f\"{nr}_{vs[0]}_vs_{vs[1]}\"].append((r[0]))\n",
    "            except:\n",
    "                result[f\"{nr}_{vs[0]}_vs_{vs[1]}\"] = [(r[0])]\n",
    "            #print(r)\n",
    "\n",
    "\n",
    "result = pd.DataFrame(result)\n",
    "result"
   ]
  },
  {
   "cell_type": "code",
   "execution_count": 38,
   "metadata": {},
   "outputs": [
    {
     "data": {
      "text/plain": [
       "12.375"
      ]
     },
     "execution_count": 38,
     "metadata": {},
     "output_type": "execute_result"
    }
   ],
   "source": [
    "mean_swap_first = result[\"swap_first_vs_best\"].sum()/8\n",
    "mean_swap_first"
   ]
  },
  {
   "cell_type": "code",
   "execution_count": 39,
   "metadata": {},
   "outputs": [
    {
     "data": {
      "text/plain": [
       "7.625"
      ]
     },
     "execution_count": 39,
     "metadata": {},
     "output_type": "execute_result"
    }
   ],
   "source": [
    "mean_swap_best = (8*20 -result[\"swap_first_vs_best\"].sum() ) /8\n",
    "mean_swap_best"
   ]
  },
  {
   "cell_type": "code",
   "execution_count": 40,
   "metadata": {},
   "outputs": [
    {
     "data": {
      "text/plain": [
       "17.125"
      ]
     },
     "execution_count": 40,
     "metadata": {},
     "output_type": "execute_result"
    }
   ],
   "source": [
    "mean_2opt_first = result[\"2opt_first_vs_best\"].sum()/8\n",
    "mean_2opt_first"
   ]
  },
  {
   "cell_type": "code",
   "execution_count": 41,
   "metadata": {},
   "outputs": [
    {
     "data": {
      "text/plain": [
       "2.875"
      ]
     },
     "execution_count": 41,
     "metadata": {},
     "output_type": "execute_result"
    }
   ],
   "source": [
    "mean_2opt_best = (8*20 -result[\"2opt_first_vs_best\"].sum() ) /8\n",
    "mean_2opt_best"
   ]
  }
 ],
 "metadata": {
  "kernelspec": {
   "display_name": "base",
   "language": "python",
   "name": "python3"
  },
  "language_info": {
   "codemirror_mode": {
    "name": "ipython",
    "version": 3
   },
   "file_extension": ".py",
   "mimetype": "text/x-python",
   "name": "python",
   "nbconvert_exporter": "python",
   "pygments_lexer": "ipython3",
   "version": "3.9.7"
  }
 },
 "nbformat": 4,
 "nbformat_minor": 2
}
